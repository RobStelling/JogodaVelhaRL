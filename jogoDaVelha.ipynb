{
 "cells": [
  {
   "cell_type": "code",
   "execution_count": 1,
   "metadata": {},
   "outputs": [],
   "source": [
    "import velha\n",
    "from pathlib import Path"
   ]
  },
  {
   "cell_type": "code",
   "execution_count": 2,
   "metadata": {},
   "outputs": [
    {
     "name": "stdout",
     "output_type": "stream",
     "text": [
      "Iniciando treinamento com 1000 rodadas...\n",
      "politicas\\p_O1000-v0.0.pjv politicas\\p_X1000-v0.0.pjv\n",
      "Políticas O1000-v0.0 e X1000-v0.0 já existem\n",
      "Iniciando treinamento com 10000 rodadas...\n",
      "politicas\\p_O10000-v0.0.pjv politicas\\p_X10000-v0.0.pjv\n",
      "Políticas O10000-v0.0 e X10000-v0.0 já existem\n",
      "Iniciando treinamento com 100000 rodadas...\n",
      "politicas\\p_O100000-v0.0.pjv politicas\\p_X100000-v0.0.pjv\n",
      "Políticas O100000-v0.0 e X100000-v0.0 já existem\n",
      "Iniciando treinamento com 1000000 rodadas...\n",
      "politicas\\p_O1000000-v0.0.pjv politicas\\p_X1000000-v0.0.pjv\n",
      "Políticas O1000000-v0.0 e X1000000-v0.0 já existem\n"
     ]
    }
   ],
   "source": [
    "\n",
    "versao = \"-v0.0\"\n",
    "\n",
    "# Treinamento de dois jogadores por um número de rodadas\n",
    "def path_arquivo(politica):\n",
    "    return Path(velha.PASTA_POLITICAS) / f\"{velha.PREFIXO_POLITICA}{politica}.{velha.EXTENSAO_POLITICA}\"\n",
    "\n",
    "for rodadas_treinamento in [1000, 10000, 100000, 1000000]:\n",
    "    rodadas = rodadas_treinamento\n",
    "    print(f'Iniciando treinamento com {rodadas} rodadas...')\n",
    "    verifica = rodadas / 10\n",
    "    politicaX = f\"X{rodadas}{versao}\"\n",
    "    politicaO = f\"O{rodadas}{versao}\"\n",
    "    arquivo_pX = path_arquivo(politicaX)\n",
    "    arquivo_pO = path_arquivo(politicaO)\n",
    "    print(arquivo_pO, arquivo_pX)\n",
    "    if not arquivo_pX.exists() or not arquivo_pO.exists():\n",
    "        primeiro = velha.Maquina(politicaX)\n",
    "        segundo = velha.Maquina(politicaO)\n",
    "        treino = velha.jogoDaVelha(primeiro, segundo)\n",
    "        treino.treinamento(rodadas, verifica)\n",
    "        print(f\"Salvando políticas para {rodadas} rodadas\")\n",
    "        print(f'Salvando política: {primeiro.nome}')\n",
    "        primeiro.salvaPolitica()\n",
    "        print(f'Salvando política: {segundo.nome}')\n",
    "        segundo.salvaPolitica()\n",
    "    else:\n",
    "        print(f'Políticas {politicaO} e {politicaX} já existem')"
   ]
  },
  {
   "cell_type": "code",
   "execution_count": 3,
   "metadata": {},
   "outputs": [
    {
     "name": "stdout",
     "output_type": "stream",
     "text": [
      "Arquivo de política XO1000000-v0.0 já existe!\n"
     ]
    }
   ],
   "source": [
    "politica_combinada = \"XO1000000-v0.0\"\n",
    "if not path_arquivo(politica_combinada).exists():\n",
    "    primeiro = velha.Maquina(\"velhaRLX\", taxa_exploracao=0.0)\n",
    "    primeiro.carregaPolitica(\"X1000000-v0.0\")\n",
    "    segundo = velha.Maquina(\"velhaRLO\", taxa_exploracao=0.0)\n",
    "    segundo.carregaPolitica(\"O1000000-v0.0\")\n",
    "\n",
    "    primeiro.combinaESalvaPolitica(segundo, politica_combinada)\n",
    "    print(f\"Salvando política {politica_combinada}!!!\")\n",
    "else:\n",
    "    print(f\"Arquivo de política {politica_combinada} já existe!\")"
   ]
  },
  {
   "cell_type": "code",
   "execution_count": 4,
   "metadata": {},
   "outputs": [
    {
     "data": {
      "text/plain": [
       "(0.19705063455396984, 0.18095449803800087, 0.16783601693521394)"
      ]
     },
     "execution_count": 4,
     "metadata": {},
     "output_type": "execute_result"
    }
   ],
   "source": [
    "primeiro = velha.Maquina(\"velhaRL\", taxa_exploracao=0.0)\n",
    "primeiro.carregaPolitica(\"X100000-v0.0\")\n",
    "primeiro.valores_estado['[0 0 0 0 1 0 0 0 0]'], primeiro.valores_estado['[0 0 0 0 0 0 0 0 1]'], primeiro.valores_estado['[0 0 0 0 0 0 0 1 0]']"
   ]
  },
  {
   "cell_type": "code",
   "execution_count": 5,
   "metadata": {},
   "outputs": [
    {
     "data": {
      "text/plain": [
       "(0.17904563849728367, 0.24042451343877136, 0.16029973370926237)"
      ]
     },
     "execution_count": 5,
     "metadata": {},
     "output_type": "execute_result"
    }
   ],
   "source": [
    "segundo = velha.Maquina(\"velhaRLO\", taxa_exploracao=0.0)\n",
    "primeiro.carregaPolitica(\"O100000-v0.0\")\n",
    "primeiro.valores_estado['[0 0 0 0 1 0 0 0 4]'], primeiro.valores_estado['[0 0 0 0 4 0 0 0 1]'], primeiro.valores_estado['[0 0 0 0 0 0 0 1 4]']"
   ]
  },
  {
   "cell_type": "code",
   "execution_count": 6,
   "metadata": {},
   "outputs": [],
   "source": [
    "politica_1 = velha.Maquina(\"X forte\", taxa_exploracao=0.0, limite_exploracao=0.03, depuracao=False)\n",
    "politica_1.carregaPolitica(\"X100000-v0.0\")\n",
    "politica_2 = velha.Maquina(\"O forte\", taxa_exploracao=0.0)\n",
    "politica_2.carregaPolitica(\"O100000-v0.0\")\n",
    "humano = velha.Humano(\"Roberto\")"
   ]
  },
  {
   "cell_type": "code",
   "execution_count": 7,
   "metadata": {},
   "outputs": [
    {
     "name": "stdout",
     "output_type": "stream",
     "text": [
      "-------------\n",
      "|   |   |   | \n",
      "-------------\n",
      "|   |   |   | \n",
      "-------------\n",
      "| X |   |   | \n",
      "-------------\n",
      "Qual a casa? Você jogou 6\n",
      "Qual a casa? Você jogou 7\n",
      "-------------\n",
      "|   |   |   | \n",
      "-------------\n",
      "|   |   |   | \n",
      "-------------\n",
      "| X | O |   | \n",
      "-------------\n",
      "-------------\n",
      "| X |   |   | \n",
      "-------------\n",
      "|   |   |   | \n",
      "-------------\n",
      "| X | O |   | \n",
      "-------------\n",
      "Qual a casa? Você jogou 3\n",
      "-------------\n",
      "| X |   |   | \n",
      "-------------\n",
      "| O |   |   | \n",
      "-------------\n",
      "| X | O |   | \n",
      "-------------\n",
      "-------------\n",
      "| X |   |   | \n",
      "-------------\n",
      "| O | X |   | \n",
      "-------------\n",
      "| X | O |   | \n",
      "-------------\n",
      "Qual a casa? Você jogou 8\n",
      "-------------\n",
      "| X |   |   | \n",
      "-------------\n",
      "| O | X |   | \n",
      "-------------\n",
      "| X | O | O | \n",
      "-------------\n",
      "-------------\n",
      "| X |   | X | \n",
      "-------------\n",
      "| O | X |   | \n",
      "-------------\n",
      "| X | O | O | \n",
      "-------------\n",
      "X forte venceu!\n"
     ]
    }
   ],
   "source": [
    "forte_x_humano = velha.jogoDaVelha(politica_1, humano)\n",
    "resultado = forte_x_humano.partida(saida=True)"
   ]
  },
  {
   "cell_type": "code",
   "execution_count": 8,
   "metadata": {},
   "outputs": [
    {
     "name": "stdout",
     "output_type": "stream",
     "text": [
      "Qual a casa? Você jogou 1\n",
      "-------------\n",
      "|   | X |   | \n",
      "-------------\n",
      "|   |   |   | \n",
      "-------------\n",
      "|   |   |   | \n",
      "-------------\n",
      "-------------\n",
      "|   | X |   | \n",
      "-------------\n",
      "|   | O |   | \n",
      "-------------\n",
      "|   |   |   | \n",
      "-------------\n",
      "Qual a casa? Você jogou 7\n",
      "-------------\n",
      "|   | X |   | \n",
      "-------------\n",
      "|   | O |   | \n",
      "-------------\n",
      "|   | X |   | \n",
      "-------------\n",
      "-------------\n",
      "|   | X | O | \n",
      "-------------\n",
      "|   | O |   | \n",
      "-------------\n",
      "|   | X |   | \n",
      "-------------\n",
      "Qual a casa? Você jogou 6\n",
      "-------------\n",
      "|   | X | O | \n",
      "-------------\n",
      "|   | O |   | \n",
      "-------------\n",
      "| X | X |   | \n",
      "-------------\n",
      "-------------\n",
      "|   | X | O | \n",
      "-------------\n",
      "|   | O |   | \n",
      "-------------\n",
      "| X | X | O | \n",
      "-------------\n",
      "Qual a casa? Você jogou 5\n",
      "-------------\n",
      "|   | X | O | \n",
      "-------------\n",
      "|   | O | X | \n",
      "-------------\n",
      "| X | X | O | \n",
      "-------------\n",
      "-------------\n",
      "| O | X | O | \n",
      "-------------\n",
      "|   | O | X | \n",
      "-------------\n",
      "| X | X | O | \n",
      "-------------\n",
      "O forte venceu!\n"
     ]
    }
   ],
   "source": [
    "humano_x_forte = velha.jogoDaVelha(humano, politica_2)\n",
    "resultado = humano_x_forte.partida()"
   ]
  },
  {
   "cell_type": "code",
   "execution_count": 9,
   "metadata": {},
   "outputs": [],
   "source": [
    "Xforte = velha.Maquina(\"X forte\", taxa_exploracao=0.0, limite_exploracao=0.013)\n",
    "Xforte.carregaPolitica(\"X1000000-v0.0\")\n",
    "Ofraco = velha.Maquina(\"O fraco\", taxa_exploracao=0.0, limite_exploracao=0.015)\n",
    "Ofraco.carregaPolitica(\"O1000-v0.0\")"
   ]
  },
  {
   "cell_type": "code",
   "execution_count": 10,
   "metadata": {},
   "outputs": [],
   "source": [
    "simulacao = velha.jogoDaVelha(Xforte, Ofraco)\n",
    "total, tabuleiros = simulacao.simulacao(partidas=10000)"
   ]
  },
  {
   "cell_type": "code",
   "execution_count": 11,
   "metadata": {},
   "outputs": [
    {
     "data": {
      "text/plain": [
       "Counter({'X forte': 9868, 'Velha': 132})"
      ]
     },
     "execution_count": 11,
     "metadata": {},
     "output_type": "execute_result"
    }
   ],
   "source": [
    "total"
   ]
  },
  {
   "cell_type": "code",
   "execution_count": 12,
   "metadata": {},
   "outputs": [
    {
     "data": {
      "text/plain": [
       "Counter({'[0 1 0 0 1 4 0 1 4]': 816,\n",
       "         '[0 1 0 4 1 4 0 1 0]': 817,\n",
       "         '[1 1 4 0 1 4 0 4 1]': 842,\n",
       "         '[0 1 4 0 1 4 0 1 0]': 800,\n",
       "         '[4 0 4 1 1 1 0 0 0]': 865,\n",
       "         '[4 0 0 1 1 1 0 0 4]': 816,\n",
       "         '[4 4 0 1 1 1 0 0 0]': 782,\n",
       "         '[4 0 0 1 1 1 0 4 0]': 836,\n",
       "         '[4 1 0 0 1 4 0 1 0]': 849,\n",
       "         '[0 1 0 0 1 4 4 1 0]': 876,\n",
       "         '[4 0 0 1 1 1 4 0 0]': 880,\n",
       "         '[4 4 1 1 1 4 1 0 0]': 188,\n",
       "         '[4 4 1 1 1 4 4 1 1]': 132,\n",
       "         '[4 0 1 1 1 4 1 4 0]': 202,\n",
       "         '[4 1 1 1 1 4 4 1 4]': 103,\n",
       "         '[4 0 1 1 1 4 1 0 4]': 196})"
      ]
     },
     "execution_count": 12,
     "metadata": {},
     "output_type": "execute_result"
    }
   ],
   "source": [
    "tabuleiros"
   ]
  },
  {
   "cell_type": "code",
   "execution_count": 13,
   "metadata": {},
   "outputs": [
    {
     "name": "stdout",
     "output_type": "stream",
     "text": [
      "Qual a casa? Você jogou 6\n",
      "-------------\n",
      "|   |   |   | \n",
      "-------------\n",
      "|   |   |   | \n",
      "-------------\n",
      "| X |   |   | \n",
      "-------------\n",
      "-------------\n",
      "|   |   |   | \n",
      "-------------\n",
      "|   | O |   | \n",
      "-------------\n",
      "| X |   |   | \n",
      "-------------\n",
      "Qual a casa? Você jogou 1\n",
      "-------------\n",
      "|   | X |   | \n",
      "-------------\n",
      "|   | O |   | \n",
      "-------------\n",
      "| X |   |   | \n",
      "-------------\n",
      "-------------\n",
      "|   | X |   | \n",
      "-------------\n",
      "| O | O |   | \n",
      "-------------\n",
      "| X |   |   | \n",
      "-------------\n",
      "Qual a casa? Você jogou 0\n",
      "-------------\n",
      "| X | X |   | \n",
      "-------------\n",
      "| O | O |   | \n",
      "-------------\n",
      "| X |   |   | \n",
      "-------------\n",
      "-------------\n",
      "| X | X |   | \n",
      "-------------\n",
      "| O | O | O | \n",
      "-------------\n",
      "| X |   |   | \n",
      "-------------\n",
      "XO venceu!\n"
     ]
    }
   ],
   "source": [
    "XO = velha.Maquina(\"XO\", taxa_exploracao=0.0, limite_exploracao=0.013)\n",
    "XO.carregaPolitica(\"XO1000000-v0.0\")\n",
    "humano = velha.Humano(\"Roberto\")\n",
    "partida = velha.jogoDaVelha(humano, XO)\n",
    "_ = partida.partida()"
   ]
  },
  {
   "cell_type": "code",
   "execution_count": 14,
   "metadata": {},
   "outputs": [
    {
     "name": "stdout",
     "output_type": "stream",
     "text": [
      "-------------\n",
      "|   |   |   | \n",
      "-------------\n",
      "|   | X |   | \n",
      "-------------\n",
      "|   |   |   | \n",
      "-------------\n",
      "Qual a casa? Você jogou 1\n",
      "-------------\n",
      "|   | O |   | \n",
      "-------------\n",
      "|   | X |   | \n",
      "-------------\n",
      "|   |   |   | \n",
      "-------------\n",
      "-------------\n",
      "|   | O |   | \n",
      "-------------\n",
      "| X | X |   | \n",
      "-------------\n",
      "|   |   |   | \n",
      "-------------\n",
      "Qual a casa? Você jogou 5\n",
      "-------------\n",
      "|   | O |   | \n",
      "-------------\n",
      "| X | X | O | \n",
      "-------------\n",
      "|   |   |   | \n",
      "-------------\n",
      "-------------\n",
      "|   | O |   | \n",
      "-------------\n",
      "| X | X | O | \n",
      "-------------\n",
      "| X |   |   | \n",
      "-------------\n",
      "Qual a casa? Você jogou 0\n",
      "-------------\n",
      "| O | O |   | \n",
      "-------------\n",
      "| X | X | O | \n",
      "-------------\n",
      "| X |   |   | \n",
      "-------------\n",
      "-------------\n",
      "| O | O | X | \n",
      "-------------\n",
      "| X | X | O | \n",
      "-------------\n",
      "| X |   |   | \n",
      "-------------\n",
      "XO venceu!\n"
     ]
    }
   ],
   "source": [
    "partida = velha.jogoDaVelha(XO, humano)\n",
    "_ = partida.partida()"
   ]
  },
  {
   "cell_type": "code",
   "execution_count": null,
   "metadata": {},
   "outputs": [],
   "source": []
  }
 ],
 "metadata": {
  "kernelspec": {
   "display_name": "Python 3.10.7 64-bit",
   "language": "python",
   "name": "python3"
  },
  "language_info": {
   "codemirror_mode": {
    "name": "ipython",
    "version": 3
   },
   "file_extension": ".py",
   "mimetype": "text/x-python",
   "name": "python",
   "nbconvert_exporter": "python",
   "pygments_lexer": "ipython3",
   "version": "3.10.7"
  },
  "orig_nbformat": 4,
  "vscode": {
   "interpreter": {
    "hash": "5e3ec1e88214cc13c111547c3da2441f08c1a8b9cb172f0d393a712558ca4844"
   }
  }
 },
 "nbformat": 4,
 "nbformat_minor": 2
}

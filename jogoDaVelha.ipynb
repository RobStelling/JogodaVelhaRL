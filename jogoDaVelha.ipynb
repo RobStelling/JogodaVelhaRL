{
 "cells": [
  {
   "cell_type": "code",
   "execution_count": 1,
   "metadata": {},
   "outputs": [],
   "source": [
    "import velha\n",
    "from pathlib import Path"
   ]
  },
  {
   "cell_type": "code",
   "execution_count": 2,
   "metadata": {},
   "outputs": [
    {
     "name": "stdout",
     "output_type": "stream",
     "text": [
      "Iniciando treinamento com 1000 rodadas...\n",
      "Políticas O1000-v4 e X1000-v4 já existem\n",
      "Iniciando treinamento com 10000 rodadas...\n",
      "Políticas O10000-v4 e X10000-v4 já existem\n",
      "Iniciando treinamento com 100000 rodadas...\n",
      "Políticas O100000-v4 e X100000-v4 já existem\n",
      "Iniciando treinamento com 1000000 rodadas...\n",
      "Políticas O1000000-v4 e X1000000-v4 já existem\n"
     ]
    }
   ],
   "source": [
    "\n",
    "# Treinamento de dois jogadores por um número de rodadas\n",
    "for rodadas_treinamento in [1000, 10000, 100000, 1000000]:\n",
    "    rodadas = rodadas_treinamento\n",
    "    print(f'Iniciando treinamento com {rodadas} rodadas...')\n",
    "    verifica = rodadas / 10\n",
    "    politicaX = f\"X{rodadas}-v4\"\n",
    "    politicaO = f\"O{rodadas}-v4\"\n",
    "    if not Path(f\"{velha.PREFIXO_POLITICA}{politicaX}\").exists() or not Path(f\"p_{politicaO}\").exists():\n",
    "        primeiro = velha.Maquina(politicaX)\n",
    "        segundo = velha.Maquina(politicaO)\n",
    "        treino = velha.jogoDaVelha(primeiro, segundo)\n",
    "        treino.treinamento(rodadas, verifica)\n",
    "        print(f\"Salvando políticas para {rodadas} rodadas\")\n",
    "        primeiro.salvaPolitica()\n",
    "        segundo.salvaPolitica()\n",
    "    else:\n",
    "        print(f'Políticas {politicaO} e {politicaX} já existem')"
   ]
  },
  {
   "cell_type": "code",
   "execution_count": 3,
   "metadata": {},
   "outputs": [
    {
     "data": {
      "text/plain": [
       "(0.20625579662275745, 0.16558192721098527, 0.14854692957490276)"
      ]
     },
     "execution_count": 3,
     "metadata": {},
     "output_type": "execute_result"
    }
   ],
   "source": [
    "primeiro = velha.Maquina(\"velhaRL\", taxa_exploracao=0.0)\n",
    "primeiro.carregaPolitica(\"p_X1000000-v3\")\n",
    "primeiro.valores_estado['[0 0 0 0 1 0 0 0 0]'], primeiro.valores_estado['[0 0 0 0 0 0 0 0 1]'], primeiro.valores_estado['[0 0 0 0 0 0 0 1 0]']"
   ]
  },
  {
   "cell_type": "code",
   "execution_count": 5,
   "metadata": {},
   "outputs": [],
   "source": [
    "politica_1 = velha.Maquina(\"X forte\", taxa_exploracao=0.0, limite_exploracao=0.03, depuracao=False)\n",
    "politica_1.carregaPolitica(\"p_X1000000-v3\")\n",
    "politica_2 = velha.Maquina(\"O forte\", taxa_exploracao=0.0)\n",
    "politica_2.carregaPolitica(\"p_O100000-v3\")\n",
    "humano = velha.Humano(\"Roberto\")"
   ]
  },
  {
   "cell_type": "code",
   "execution_count": 6,
   "metadata": {},
   "outputs": [
    {
     "name": "stdout",
     "output_type": "stream",
     "text": [
      "-------------\n",
      "|   |   |   | \n",
      "-------------\n",
      "|   | X |   | \n",
      "-------------\n",
      "|   |   |   | \n",
      "-------------\n",
      "Qual a casa? Você jogou 0\n",
      "-------------\n",
      "| O |   |   | \n",
      "-------------\n",
      "|   | X |   | \n",
      "-------------\n",
      "|   |   |   | \n",
      "-------------\n",
      "-------------\n",
      "| O | X |   | \n",
      "-------------\n",
      "|   | X |   | \n",
      "-------------\n",
      "|   |   |   | \n",
      "-------------\n",
      "Qual a casa? Você jogou 7\n",
      "-------------\n",
      "| O | X |   | \n",
      "-------------\n",
      "|   | X |   | \n",
      "-------------\n",
      "|   | O |   | \n",
      "-------------\n",
      "-------------\n",
      "| O | X |   | \n",
      "-------------\n",
      "|   | X |   | \n",
      "-------------\n",
      "| X | O |   | \n",
      "-------------\n",
      "Qual a casa? Você jogou 2\n",
      "-------------\n",
      "| O | X | O | \n",
      "-------------\n",
      "|   | X |   | \n",
      "-------------\n",
      "| X | O |   | \n",
      "-------------\n",
      "-------------\n",
      "| O | X | O | \n",
      "-------------\n",
      "|   | X | X | \n",
      "-------------\n",
      "| X | O |   | \n",
      "-------------\n",
      "Qual a casa? Você jogou 3\n",
      "-------------\n",
      "| O | X | O | \n",
      "-------------\n",
      "| O | X | X | \n",
      "-------------\n",
      "| X | O |   | \n",
      "-------------\n",
      "-------------\n",
      "| O | X | O | \n",
      "-------------\n",
      "| O | X | X | \n",
      "-------------\n",
      "| X | O | X | \n",
      "-------------\n",
      "Deu velha!\n"
     ]
    }
   ],
   "source": [
    "forte_x_humano = velha.jogoDaVelha(politica_1, humano)\n",
    "resultado = forte_x_humano.partida(saida=True)"
   ]
  },
  {
   "cell_type": "code",
   "execution_count": 7,
   "metadata": {},
   "outputs": [
    {
     "name": "stdout",
     "output_type": "stream",
     "text": [
      "Qual a casa? Você jogou 4\n",
      "-------------\n",
      "|   |   |   | \n",
      "-------------\n",
      "|   | X |   | \n",
      "-------------\n",
      "|   |   |   | \n",
      "-------------\n",
      "-------------\n",
      "|   |   |   | \n",
      "-------------\n",
      "|   | X |   | \n",
      "-------------\n",
      "| O |   |   | \n",
      "-------------\n",
      "Qual a casa? Você jogou 2\n",
      "-------------\n",
      "|   |   | X | \n",
      "-------------\n",
      "|   | X |   | \n",
      "-------------\n",
      "| O |   |   | \n",
      "-------------\n",
      "-------------\n",
      "| O |   | X | \n",
      "-------------\n",
      "|   | X |   | \n",
      "-------------\n",
      "| O |   |   | \n",
      "-------------\n",
      "Qual a casa? Você jogou 3\n",
      "-------------\n",
      "| O |   | X | \n",
      "-------------\n",
      "| X | X |   | \n",
      "-------------\n",
      "| O |   |   | \n",
      "-------------\n",
      "-------------\n",
      "| O |   | X | \n",
      "-------------\n",
      "| X | X | O | \n",
      "-------------\n",
      "| O |   |   | \n",
      "-------------\n",
      "Qual a casa? Você jogou 8\n",
      "-------------\n",
      "| O |   | X | \n",
      "-------------\n",
      "| X | X | O | \n",
      "-------------\n",
      "| O |   | X | \n",
      "-------------\n",
      "-------------\n",
      "| O | O | X | \n",
      "-------------\n",
      "| X | X | O | \n",
      "-------------\n",
      "| O |   | X | \n",
      "-------------\n",
      "Qual a casa? Você jogou 8\n",
      "Qual a casa? Você jogou 7\n",
      "-------------\n",
      "| O | O | X | \n",
      "-------------\n",
      "| X | X | O | \n",
      "-------------\n",
      "| O | X | X | \n",
      "-------------\n",
      "Deu velha!\n"
     ]
    }
   ],
   "source": [
    "humano_x_forte = velha.jogoDaVelha(humano, politica_2)\n",
    "resultado = humano_x_forte.partida()"
   ]
  },
  {
   "cell_type": "code",
   "execution_count": 8,
   "metadata": {},
   "outputs": [],
   "source": [
    "Xforte = velha.Maquina(\"X forte\", taxa_exploracao=0.0, limite_exploracao=0.013)\n",
    "Xforte.carregaPolitica(\"p_X1000000-v4\")\n",
    "Ofraco = velha.Maquina(\"O fraco\", taxa_exploracao=0.0, limite_exploracao=0.015)\n",
    "Ofraco.carregaPolitica(\"p_O10000-v3\")"
   ]
  },
  {
   "cell_type": "code",
   "execution_count": 9,
   "metadata": {},
   "outputs": [],
   "source": [
    "simulacao = velha.jogoDaVelha(Xforte, Ofraco)\n",
    "total, tabuleiros = simulacao.simulacao(partidas=10000)"
   ]
  },
  {
   "cell_type": "code",
   "execution_count": 10,
   "metadata": {},
   "outputs": [
    {
     "data": {
      "text/plain": [
       "Counter({'Velha': 8280, 'X forte': 1720})"
      ]
     },
     "execution_count": 10,
     "metadata": {},
     "output_type": "execute_result"
    }
   ],
   "source": [
    "total"
   ]
  },
  {
   "cell_type": "code",
   "execution_count": 11,
   "metadata": {},
   "outputs": [
    {
     "data": {
      "text/plain": [
       "Counter({'[1 1 4 4 4 1 1 4 1]': 4809,\n",
       "         '[4 1 4 1 1 4 1 4 1]': 1671,\n",
       "         '[4 1 4 4 1 1 1 4 1]': 1625,\n",
       "         '[1 4 1 0 1 0 1 4 4]': 1662,\n",
       "         '[1 4 1 4 4 1 1 1 4]': 99,\n",
       "         '[1 1 4 4 4 1 1 1 4]': 76,\n",
       "         '[1 1 1 4 4 1 1 4 4]': 58})"
      ]
     },
     "execution_count": 11,
     "metadata": {},
     "output_type": "execute_result"
    }
   ],
   "source": [
    "tabuleiros"
   ]
  },
  {
   "cell_type": "code",
   "execution_count": null,
   "metadata": {},
   "outputs": [],
   "source": []
  }
 ],
 "metadata": {
  "kernelspec": {
   "display_name": "Python 3.10.7 64-bit",
   "language": "python",
   "name": "python3"
  },
  "language_info": {
   "codemirror_mode": {
    "name": "ipython",
    "version": 3
   },
   "file_extension": ".py",
   "mimetype": "text/x-python",
   "name": "python",
   "nbconvert_exporter": "python",
   "pygments_lexer": "ipython3",
   "version": "3.10.7"
  },
  "orig_nbformat": 4,
  "vscode": {
   "interpreter": {
    "hash": "5e3ec1e88214cc13c111547c3da2441f08c1a8b9cb172f0d393a712558ca4844"
   }
  }
 },
 "nbformat": 4,
 "nbformat_minor": 2
}

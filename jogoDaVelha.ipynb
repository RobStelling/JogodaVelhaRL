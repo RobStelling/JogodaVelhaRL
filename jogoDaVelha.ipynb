{
 "cells": [
  {
   "cell_type": "code",
   "execution_count": 1,
   "metadata": {},
   "outputs": [],
   "source": [
    "import velha\n",
    "from pathlib import Path"
   ]
  },
  {
   "cell_type": "code",
   "execution_count": 2,
   "metadata": {},
   "outputs": [
    {
     "name": "stdout",
     "output_type": "stream",
     "text": [
      "Iniciando treinamento com 1000 rodadas...\n",
      "modelos\\p_O1000-v0.0.pjv modelos\\p_X1000-v0.0.pjv\n",
      "Políticas O1000-v0.0 e X1000-v0.0 já existem\n",
      "Iniciando treinamento com 10000 rodadas...\n",
      "modelos\\p_O10000-v0.0.pjv modelos\\p_X10000-v0.0.pjv\n",
      "Políticas O10000-v0.0 e X10000-v0.0 já existem\n",
      "Iniciando treinamento com 100000 rodadas...\n",
      "modelos\\p_O100000-v0.0.pjv modelos\\p_X100000-v0.0.pjv\n",
      "Políticas O100000-v0.0 e X100000-v0.0 já existem\n",
      "Iniciando treinamento com 1000000 rodadas...\n",
      "modelos\\p_O1000000-v0.0.pjv modelos\\p_X1000000-v0.0.pjv\n",
      "Políticas O1000000-v0.0 e X1000000-v0.0 já existem\n"
     ]
    }
   ],
   "source": [
    "\n",
    "versao = \"-v0.0\"\n",
    "\n",
    "# Treinamento de dois jogadores por um número de rodadas\n",
    "def path_arquivo(politica):\n",
    "    return Path(velha.PASTA_POLITICAS) / f\"{velha.PREFIXO_POLITICA}{politica}.{velha.EXTENSAO_POLITICA}\"\n",
    "\n",
    "for rodadas_treinamento in [1000, 10000, 100000, 1000000]:\n",
    "    rodadas = rodadas_treinamento\n",
    "    print(f'Iniciando treinamento com {rodadas} rodadas...')\n",
    "    verifica = rodadas / 10\n",
    "    politicaX = f\"X{rodadas}{versao}\"\n",
    "    politicaO = f\"O{rodadas}{versao}\"\n",
    "    arquivo_pX = path_arquivo(politicaX)\n",
    "    arquivo_pO = path_arquivo(politicaO)\n",
    "    print(arquivo_pO, arquivo_pX)\n",
    "    if not Path(arquivo_pX).exists() or not Path(arquivo_pO).exists():\n",
    "        primeiro = velha.Maquina(politicaX)\n",
    "        segundo = velha.Maquina(politicaO)\n",
    "        treino = velha.jogoDaVelha(primeiro, segundo)\n",
    "        treino.treinamento(rodadas, verifica)\n",
    "        print(f\"Salvando políticas para {rodadas} rodadas\")\n",
    "        print(f'Salvando política: {primeiro.nome}')\n",
    "        primeiro.salvaPolitica()\n",
    "        print(f'Salvando política: {segundo.nome}')\n",
    "        segundo.salvaPolitica()\n",
    "    else:\n",
    "        print(f'Políticas {politicaO} e {politicaX} já existem')"
   ]
  },
  {
   "cell_type": "code",
   "execution_count": 3,
   "metadata": {},
   "outputs": [],
   "source": [
    "primeiro = velha.Maquina(\"velhaRLX\", taxa_exploracao=0.0)\n",
    "primeiro.carregaPolitica(\"p_X100000-v0.0\")\n",
    "segundo = velha.Maquina(\"velhaRLO\", taxa_exploracao=0.0)\n",
    "segundo.carregaPolitica(\"p_O100000-v0.0\")\n",
    "\n",
    "primeiro.combinaESalvaPolitica(segundo, \"XO1000000-v0.0\")"
   ]
  },
  {
   "cell_type": "code",
   "execution_count": null,
   "metadata": {},
   "outputs": [],
   "source": []
  },
  {
   "cell_type": "code",
   "execution_count": 3,
   "metadata": {},
   "outputs": [
    {
     "data": {
      "text/plain": [
       "(0.19705063455396984, 0.18095449803800087, 0.16783601693521394)"
      ]
     },
     "execution_count": 3,
     "metadata": {},
     "output_type": "execute_result"
    }
   ],
   "source": [
    "primeiro = velha.Maquina(\"velhaRL\", taxa_exploracao=0.0)\n",
    "primeiro.carregaPolitica(\"p_X100000-v0.0\")\n",
    "primeiro.valores_estado['[0 0 0 0 1 0 0 0 0]'], primeiro.valores_estado['[0 0 0 0 0 0 0 0 1]'], primeiro.valores_estado['[0 0 0 0 0 0 0 1 0]']"
   ]
  },
  {
   "cell_type": "code",
   "execution_count": 4,
   "metadata": {},
   "outputs": [
    {
     "data": {
      "text/plain": [
       "(0.17904563849728367, 0.24042451343877136, 0.16029973370926237)"
      ]
     },
     "execution_count": 4,
     "metadata": {},
     "output_type": "execute_result"
    }
   ],
   "source": [
    "segundo = velha.Maquina(\"velhaRLO\", taxa_exploracao=0.0)\n",
    "primeiro.carregaPolitica(\"p_O100000-v0.0\")\n",
    "primeiro.valores_estado['[0 0 0 0 1 0 0 0 4]'], primeiro.valores_estado['[0 0 0 0 4 0 0 0 1]'], primeiro.valores_estado['[0 0 0 0 0 0 0 1 4]']"
   ]
  },
  {
   "cell_type": "code",
   "execution_count": 5,
   "metadata": {},
   "outputs": [],
   "source": [
    "politica_1 = velha.Maquina(\"X forte\", taxa_exploracao=0.0, limite_exploracao=0.03, depuracao=False)\n",
    "politica_1.carregaPolitica(\"p_X100000-v0.0\")\n",
    "politica_2 = velha.Maquina(\"O forte\", taxa_exploracao=0.0)\n",
    "politica_2.carregaPolitica(\"p_O100000-v0.0\")\n",
    "humano = velha.Humano(\"Roberto\")"
   ]
  },
  {
   "cell_type": "code",
   "execution_count": 6,
   "metadata": {},
   "outputs": [
    {
     "name": "stdout",
     "output_type": "stream",
     "text": [
      "-------------\n",
      "|   | X |   | \n",
      "-------------\n",
      "|   |   |   | \n",
      "-------------\n",
      "|   |   |   | \n",
      "-------------\n",
      "Qual a casa? Você jogou 5\n",
      "-------------\n",
      "|   | X |   | \n",
      "-------------\n",
      "|   |   | O | \n",
      "-------------\n",
      "|   |   |   | \n",
      "-------------\n",
      "-------------\n",
      "|   | X | X | \n",
      "-------------\n",
      "|   |   | O | \n",
      "-------------\n",
      "|   |   |   | \n",
      "-------------\n",
      "Qual a casa? Você jogou 0\n",
      "-------------\n",
      "| O | X | X | \n",
      "-------------\n",
      "|   |   | O | \n",
      "-------------\n",
      "|   |   |   | \n",
      "-------------\n",
      "-------------\n",
      "| O | X | X | \n",
      "-------------\n",
      "|   | X | O | \n",
      "-------------\n",
      "|   |   |   | \n",
      "-------------\n",
      "Qual a casa? Você jogou 6\n",
      "-------------\n",
      "| O | X | X | \n",
      "-------------\n",
      "|   | X | O | \n",
      "-------------\n",
      "| O |   |   | \n",
      "-------------\n",
      "-------------\n",
      "| O | X | X | \n",
      "-------------\n",
      "|   | X | O | \n",
      "-------------\n",
      "| O | X |   | \n",
      "-------------\n",
      "X forte venceu!\n"
     ]
    }
   ],
   "source": [
    "forte_x_humano = velha.jogoDaVelha(politica_1, humano)\n",
    "resultado = forte_x_humano.partida(saida=True)"
   ]
  },
  {
   "cell_type": "code",
   "execution_count": 7,
   "metadata": {},
   "outputs": [
    {
     "name": "stdout",
     "output_type": "stream",
     "text": [
      "Qual a casa? Você jogou 0\n",
      "-------------\n",
      "| X |   |   | \n",
      "-------------\n",
      "|   |   |   | \n",
      "-------------\n",
      "|   |   |   | \n",
      "-------------\n",
      "-------------\n",
      "| X |   |   | \n",
      "-------------\n",
      "|   | O |   | \n",
      "-------------\n",
      "|   |   |   | \n",
      "-------------\n",
      "Qual a casa? Você jogou 7\n",
      "-------------\n",
      "| X |   |   | \n",
      "-------------\n",
      "|   | O |   | \n",
      "-------------\n",
      "|   | X |   | \n",
      "-------------\n",
      "-------------\n",
      "| X |   |   | \n",
      "-------------\n",
      "| O | O |   | \n",
      "-------------\n",
      "|   | X |   | \n",
      "-------------\n",
      "Qual a casa? Você jogou 5\n",
      "-------------\n",
      "| X |   |   | \n",
      "-------------\n",
      "| O | O | X | \n",
      "-------------\n",
      "|   | X |   | \n",
      "-------------\n",
      "-------------\n",
      "| X |   | O | \n",
      "-------------\n",
      "| O | O | X | \n",
      "-------------\n",
      "|   | X |   | \n",
      "-------------\n",
      "Qual a casa? Você jogou 6\n",
      "-------------\n",
      "| X |   | O | \n",
      "-------------\n",
      "| O | O | X | \n",
      "-------------\n",
      "| X | X |   | \n",
      "-------------\n",
      "-------------\n",
      "| X |   | O | \n",
      "-------------\n",
      "| O | O | X | \n",
      "-------------\n",
      "| X | X | O | \n",
      "-------------\n",
      "Qual a casa? Você jogou 1\n",
      "-------------\n",
      "| X | X | O | \n",
      "-------------\n",
      "| O | O | X | \n",
      "-------------\n",
      "| X | X | O | \n",
      "-------------\n",
      "Deu velha!\n"
     ]
    }
   ],
   "source": [
    "humano_x_forte = velha.jogoDaVelha(humano, politica_2)\n",
    "resultado = humano_x_forte.partida()"
   ]
  },
  {
   "cell_type": "code",
   "execution_count": 8,
   "metadata": {},
   "outputs": [],
   "source": [
    "Xforte = velha.Maquina(\"X forte\", taxa_exploracao=0.0, limite_exploracao=0.013)\n",
    "Xforte.carregaPolitica(\"p_X1000000-v0.0\")\n",
    "Ofraco = velha.Maquina(\"O fraco\", taxa_exploracao=0.0, limite_exploracao=0.015)\n",
    "Ofraco.carregaPolitica(\"p_O1000-v0.0\")"
   ]
  },
  {
   "cell_type": "code",
   "execution_count": 9,
   "metadata": {},
   "outputs": [],
   "source": [
    "simulacao = velha.jogoDaVelha(Xforte, Ofraco)\n",
    "total, tabuleiros = simulacao.simulacao(partidas=10000)"
   ]
  },
  {
   "cell_type": "code",
   "execution_count": 10,
   "metadata": {},
   "outputs": [
    {
     "data": {
      "text/plain": [
       "Counter({'X forte': 9902, 'Velha': 98})"
      ]
     },
     "execution_count": 10,
     "metadata": {},
     "output_type": "execute_result"
    }
   ],
   "source": [
    "total"
   ]
  },
  {
   "cell_type": "code",
   "execution_count": 11,
   "metadata": {},
   "outputs": [
    {
     "data": {
      "text/plain": [
       "Counter({'[4 0 0 1 1 1 0 0 4]': 800,\n",
       "         '[0 1 0 0 1 4 4 1 0]': 875,\n",
       "         '[4 0 4 1 1 1 0 0 0]': 872,\n",
       "         '[0 1 0 4 1 4 0 1 0]': 812,\n",
       "         '[4 0 1 1 1 4 1 0 4]': 208,\n",
       "         '[4 0 0 1 1 1 0 4 0]': 846,\n",
       "         '[0 1 0 0 1 4 0 1 4]': 792,\n",
       "         '[0 1 4 0 1 4 0 1 0]': 827,\n",
       "         '[1 1 4 0 1 4 0 4 1]': 829,\n",
       "         '[4 0 1 1 1 4 1 4 0]': 232,\n",
       "         '[4 1 0 0 1 4 0 1 0]': 785,\n",
       "         '[4 4 1 1 1 4 4 1 1]': 98,\n",
       "         '[4 4 0 1 1 1 0 0 0]': 839,\n",
       "         '[4 0 0 1 1 1 4 0 0]': 870,\n",
       "         '[4 4 1 1 1 4 1 0 0]': 210,\n",
       "         '[4 1 1 1 1 4 4 1 4]': 105})"
      ]
     },
     "execution_count": 11,
     "metadata": {},
     "output_type": "execute_result"
    }
   ],
   "source": [
    "tabuleiros"
   ]
  },
  {
   "cell_type": "code",
   "execution_count": 9,
   "metadata": {},
   "outputs": [
    {
     "name": "stdout",
     "output_type": "stream",
     "text": [
      "Qual a casa? Você jogou 0\n",
      "-------------\n",
      "| X |   |   | \n",
      "-------------\n",
      "|   |   |   | \n",
      "-------------\n",
      "|   |   |   | \n",
      "-------------\n",
      "-------------\n",
      "| X |   |   | \n",
      "-------------\n",
      "|   | O |   | \n",
      "-------------\n",
      "|   |   |   | \n",
      "-------------\n",
      "Qual a casa? Você jogou 8\n",
      "-------------\n",
      "| X |   |   | \n",
      "-------------\n",
      "|   | O |   | \n",
      "-------------\n",
      "|   |   | X | \n",
      "-------------\n",
      "-------------\n",
      "| X | O |   | \n",
      "-------------\n",
      "|   | O |   | \n",
      "-------------\n",
      "|   |   | X | \n",
      "-------------\n",
      "Qual a casa? Você jogou 6\n",
      "-------------\n",
      "| X | O |   | \n",
      "-------------\n",
      "|   | O |   | \n",
      "-------------\n",
      "| X |   | X | \n",
      "-------------\n",
      "-------------\n",
      "| X | O |   | \n",
      "-------------\n",
      "|   | O |   | \n",
      "-------------\n",
      "| X | O | X | \n",
      "-------------\n",
      "XO venceu!\n"
     ]
    },
    {
     "data": {
      "text/plain": [
       "495"
      ]
     },
     "execution_count": 9,
     "metadata": {},
     "output_type": "execute_result"
    }
   ],
   "source": [
    "XO = velha.Maquina(\"XO\", taxa_exploracao=0.0, limite_exploracao=0.013)\n",
    "XO.carregaPolitica(\"p_XO1000000-v0.0\")\n",
    "humano = velha.Humano(\"Roberto\")\n",
    "partida = velha.jogoDaVelha(humano, XO)\n",
    "_ = partida.partida()"
   ]
  },
  {
   "cell_type": "code",
   "execution_count": 12,
   "metadata": {},
   "outputs": [
    {
     "name": "stdout",
     "output_type": "stream",
     "text": [
      "-------------\n",
      "|   |   |   | \n",
      "-------------\n",
      "|   | X |   | \n",
      "-------------\n",
      "|   |   |   | \n",
      "-------------\n",
      "Qual a casa? Você jogou 0\n",
      "-------------\n",
      "| O |   |   | \n",
      "-------------\n",
      "|   | X |   | \n",
      "-------------\n",
      "|   |   |   | \n",
      "-------------\n",
      "-------------\n",
      "| O | X |   | \n",
      "-------------\n",
      "|   | X |   | \n",
      "-------------\n",
      "|   |   |   | \n",
      "-------------\n",
      "Qual a casa? Você jogou 8\n",
      "-------------\n",
      "| O | X |   | \n",
      "-------------\n",
      "|   | X |   | \n",
      "-------------\n",
      "|   |   | O | \n",
      "-------------\n",
      "-------------\n",
      "| O | X |   | \n",
      "-------------\n",
      "|   | X |   | \n",
      "-------------\n",
      "|   | X | O | \n",
      "-------------\n",
      "XO venceu!\n"
     ]
    }
   ],
   "source": [
    "partida = velha.jogoDaVelha(XO, humano)\n",
    "_ = partida.partida()"
   ]
  },
  {
   "cell_type": "code",
   "execution_count": null,
   "metadata": {},
   "outputs": [],
   "source": []
  }
 ],
 "metadata": {
  "kernelspec": {
   "display_name": "Python 3.10.7 64-bit",
   "language": "python",
   "name": "python3"
  },
  "language_info": {
   "codemirror_mode": {
    "name": "ipython",
    "version": 3
   },
   "file_extension": ".py",
   "mimetype": "text/x-python",
   "name": "python",
   "nbconvert_exporter": "python",
   "pygments_lexer": "ipython3",
   "version": "3.10.7"
  },
  "orig_nbformat": 4,
  "vscode": {
   "interpreter": {
    "hash": "5e3ec1e88214cc13c111547c3da2441f08c1a8b9cb172f0d393a712558ca4844"
   }
  }
 },
 "nbformat": 4,
 "nbformat_minor": 2
}

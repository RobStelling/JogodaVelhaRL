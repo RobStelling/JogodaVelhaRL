{
 "cells": [
  {
   "cell_type": "markdown",
   "metadata": {},
   "source": [
    "# Jogo da velha com Reinforcement Learning"
   ]
  },
  {
   "cell_type": "code",
   "execution_count": 1,
   "metadata": {},
   "outputs": [],
   "source": [
    "import ipywidgets as widgets\n",
    "import numpy as np\n",
    "import velha as jv"
   ]
  },
  {
   "cell_type": "markdown",
   "metadata": {},
   "source": [
    "# Simulação de partidas\n",
    "Entre uma política forte para **X** e fraca para **O**"
   ]
  },
  {
   "cell_type": "code",
   "execution_count": 2,
   "metadata": {},
   "outputs": [],
   "source": [
    "versao = \"-v0.0\"\n",
    "muito_fraco, fraco, medio, forte, muito_forte = 10 ** np.arange(2, 7)"
   ]
  },
  {
   "cell_type": "code",
   "execution_count": 3,
   "metadata": {},
   "outputs": [],
   "source": [
    "Xforte = jv.Maquina(\"X forte\", taxa_exploracao=0.0, limite_exploracao=0.0)\n",
    "Xforte.carrega_politica(f\"X{muito_forte}{versao}\")\n",
    "Ofraco = jv.Maquina(\"O fraco\", taxa_exploracao=0.0, limite_exploracao=0.0)\n",
    "Ofraco.carrega_politica(f\"O{fraco}{versao}\")"
   ]
  },
  {
   "cell_type": "markdown",
   "metadata": {},
   "source": [
    "# Usando a \"política errada\"\n",
    "Humano como **X** e política **X** como **O**"
   ]
  },
  {
   "cell_type": "code",
   "execution_count": 4,
   "metadata": {},
   "outputs": [
    {
     "name": "stdout",
     "output_type": "stream",
     "text": [
      "Qual a sua jogada, Roberto? Roberto jogou 0\n",
      "-------------\n",
      "| X |   |   | \n",
      "-------------\n",
      "|   |   |   | \n",
      "-------------\n",
      "|   |   |   | \n",
      "-------------\n",
      "X forte jogou 1\n",
      "-------------\n",
      "| X | O |   | \n",
      "-------------\n",
      "|   |   |   | \n",
      "-------------\n",
      "|   |   |   | \n",
      "-------------\n",
      "Qual a sua jogada, Roberto? Roberto jogou 3\n",
      "-------------\n",
      "| X | O |   | \n",
      "-------------\n",
      "| X |   |   | \n",
      "-------------\n",
      "|   |   |   | \n",
      "-------------\n",
      "X forte jogou 8\n",
      "-------------\n",
      "| X | O |   | \n",
      "-------------\n",
      "| X |   |   | \n",
      "-------------\n",
      "|   |   | O | \n",
      "-------------\n",
      "Qual a sua jogada, Roberto? Roberto jogou 6\n",
      "-------------\n",
      "| X | O |   | \n",
      "-------------\n",
      "| X |   |   | \n",
      "-------------\n",
      "| X |   | O | \n",
      "-------------\n",
      "Roberto venceu!\n"
     ]
    }
   ],
   "source": [
    "humano = jv.Humano(\"Roberto\")\n",
    "partida = jv.jogoDaVelha(humano, Xforte)\n",
    "_ = partida.partida()"
   ]
  },
  {
   "cell_type": "markdown",
   "metadata": {},
   "source": [
    "# Jogando contra a política combinada"
   ]
  },
  {
   "cell_type": "code",
   "execution_count": 5,
   "metadata": {},
   "outputs": [
    {
     "name": "stdout",
     "output_type": "stream",
     "text": [
      "Qual a sua jogada, Roberto? Roberto jogou 0\n",
      "-------------\n",
      "| X |   |   | \n",
      "-------------\n",
      "|   |   |   | \n",
      "-------------\n",
      "|   |   |   | \n",
      "-------------\n",
      "XO jogou 4\n",
      "-------------\n",
      "| X |   |   | \n",
      "-------------\n",
      "|   | O |   | \n",
      "-------------\n",
      "|   |   |   | \n",
      "-------------\n",
      "Qual a sua jogada, Roberto? Roberto jogou 5\n",
      "-------------\n",
      "| X |   |   | \n",
      "-------------\n",
      "|   | O | X | \n",
      "-------------\n",
      "|   |   |   | \n",
      "-------------\n",
      "XO jogou 2\n",
      "-------------\n",
      "| X |   | O | \n",
      "-------------\n",
      "|   | O | X | \n",
      "-------------\n",
      "|   |   |   | \n",
      "-------------\n",
      "Qual a sua jogada, Roberto? Roberto jogou 7\n",
      "-------------\n",
      "| X |   | O | \n",
      "-------------\n",
      "|   | O | X | \n",
      "-------------\n",
      "|   | X |   | \n",
      "-------------\n",
      "XO jogou 6\n",
      "-------------\n",
      "| X |   | O | \n",
      "-------------\n",
      "|   | O | X | \n",
      "-------------\n",
      "| O | X |   | \n",
      "-------------\n",
      "XO venceu!\n"
     ]
    }
   ],
   "source": [
    "XO = jv.Maquina(\"XO\", taxa_exploracao=0.0, limite_exploracao=0.013)\n",
    "XO.carrega_politica(f\"XO{muito_forte}{versao}\")\n",
    "humano = jv.Humano(\"Roberto\")\n",
    "partida = jv.jogoDaVelha(humano, XO)\n",
    "_ = partida.partida()"
   ]
  },
  {
   "cell_type": "code",
   "execution_count": 6,
   "metadata": {},
   "outputs": [
    {
     "name": "stdout",
     "output_type": "stream",
     "text": [
      "XO jogou 2\n",
      "-------------\n",
      "|   |   | X | \n",
      "-------------\n",
      "|   |   |   | \n",
      "-------------\n",
      "|   |   |   | \n",
      "-------------\n",
      "Qual a sua jogada, Roberto? Roberto jogou 0\n",
      "-------------\n",
      "| O |   | X | \n",
      "-------------\n",
      "|   |   |   | \n",
      "-------------\n",
      "|   |   |   | \n",
      "-------------\n",
      "XO jogou 6\n",
      "-------------\n",
      "| O |   | X | \n",
      "-------------\n",
      "|   |   |   | \n",
      "-------------\n",
      "| X |   |   | \n",
      "-------------\n",
      "Qual a sua jogada, Roberto? Roberto jogou 4\n",
      "-------------\n",
      "| O |   | X | \n",
      "-------------\n",
      "|   | O |   | \n",
      "-------------\n",
      "| X |   |   | \n",
      "-------------\n",
      "XO jogou 8\n",
      "-------------\n",
      "| O |   | X | \n",
      "-------------\n",
      "|   | O |   | \n",
      "-------------\n",
      "| X |   | X | \n",
      "-------------\n",
      "Qual a sua jogada, Roberto? Roberto jogou 5\n",
      "-------------\n",
      "| O |   | X | \n",
      "-------------\n",
      "|   | O | O | \n",
      "-------------\n",
      "| X |   | X | \n",
      "-------------\n",
      "XO jogou 7\n",
      "-------------\n",
      "| O |   | X | \n",
      "-------------\n",
      "|   | O | O | \n",
      "-------------\n",
      "| X | X | X | \n",
      "-------------\n",
      "XO venceu!\n"
     ]
    }
   ],
   "source": [
    "partida = jv.jogoDaVelha(XO, humano)\n",
    "_ = partida.partida()"
   ]
  },
  {
   "cell_type": "code",
   "execution_count": 7,
   "metadata": {},
   "outputs": [
    {
     "data": {
      "application/vnd.jupyter.widget-view+json": {
       "model_id": "535ab96dcba0493db7c0c9f915003354",
       "version_major": 2,
       "version_minor": 0
      },
      "text/plain": [
       "Dropdown(description='Quem?', options=('Eu primeiro', 'Computador primeiro'), value='Eu primeiro')"
      ]
     },
     "execution_count": 7,
     "metadata": {},
     "output_type": "execute_result"
    }
   ],
   "source": [
    "comecar = widgets.Dropdown(\n",
    "    options=['Eu primeiro', 'Computador primeiro'],\n",
    "    value='Eu primeiro',\n",
    "    description='Quem?',\n",
    "    disabled=False,\n",
    ")\n",
    "comecar"
   ]
  },
  {
   "cell_type": "code",
   "execution_count": 8,
   "metadata": {},
   "outputs": [
    {
     "name": "stdout",
     "output_type": "stream",
     "text": [
      "Qual a sua jogada, Roberto? Roberto jogou 1\n",
      "-------------\n",
      "|   | X |   | \n",
      "-------------\n",
      "|   |   |   | \n",
      "-------------\n",
      "|   |   |   | \n",
      "-------------\n",
      "XO jogou 4\n",
      "-------------\n",
      "|   | X |   | \n",
      "-------------\n",
      "|   | O |   | \n",
      "-------------\n",
      "|   |   |   | \n",
      "-------------\n",
      "Qual a sua jogada, Roberto? Roberto jogou 7\n",
      "-------------\n",
      "|   | X |   | \n",
      "-------------\n",
      "|   | O |   | \n",
      "-------------\n",
      "|   | X |   | \n",
      "-------------\n",
      "XO jogou 3\n",
      "-------------\n",
      "|   | X |   | \n",
      "-------------\n",
      "| O | O |   | \n",
      "-------------\n",
      "|   | X |   | \n",
      "-------------\n",
      "Qual a sua jogada, Roberto? Roberto jogou 5\n",
      "-------------\n",
      "|   | X |   | \n",
      "-------------\n",
      "| O | O | X | \n",
      "-------------\n",
      "|   | X |   | \n",
      "-------------\n",
      "XO jogou 0\n",
      "-------------\n",
      "| O | X |   | \n",
      "-------------\n",
      "| O | O | X | \n",
      "-------------\n",
      "|   | X |   | \n",
      "-------------\n",
      "Qual a sua jogada, Roberto? Roberto jogou 8\n",
      "-------------\n",
      "| O | X |   | \n",
      "-------------\n",
      "| O | O | X | \n",
      "-------------\n",
      "|   | X | X | \n",
      "-------------\n",
      "XO jogou 6\n",
      "-------------\n",
      "| O | X |   | \n",
      "-------------\n",
      "| O | O | X | \n",
      "-------------\n",
      "| O | X | X | \n",
      "-------------\n",
      "XO venceu!\n"
     ]
    }
   ],
   "source": [
    "if comecar.value == 'Eu primeiro':\n",
    "    partida = jv.jogoDaVelha(humano, XO)\n",
    "else:\n",
    "    partida = jv.jogoDaVelha(XO, humano)\n",
    "_ = partida.partida()"
   ]
  },
  {
   "cell_type": "code",
   "execution_count": null,
   "metadata": {},
   "outputs": [],
   "source": []
  }
 ],
 "metadata": {
  "kernelspec": {
   "display_name": "Python 3.10.7 64-bit",
   "language": "python",
   "name": "python3"
  },
  "language_info": {
   "codemirror_mode": {
    "name": "ipython",
    "version": 3
   },
   "file_extension": ".py",
   "mimetype": "text/x-python",
   "name": "python",
   "nbconvert_exporter": "python",
   "pygments_lexer": "ipython3",
   "version": "3.10.7"
  },
  "orig_nbformat": 4,
  "vscode": {
   "interpreter": {
    "hash": "5e3ec1e88214cc13c111547c3da2441f08c1a8b9cb172f0d393a712558ca4844"
   }
  }
 },
 "nbformat": 4,
 "nbformat_minor": 2
}

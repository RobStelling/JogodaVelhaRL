{
 "cells": [
  {
   "cell_type": "code",
   "execution_count": 1,
   "metadata": {},
   "outputs": [],
   "source": [
    "import velha\n",
    "from pathlib import Path"
   ]
  },
  {
   "cell_type": "code",
   "execution_count": 2,
   "metadata": {},
   "outputs": [],
   "source": [
    "sufixo = \"-v0.0\""
   ]
  },
  {
   "cell_type": "code",
   "execution_count": 3,
   "metadata": {},
   "outputs": [
    {
     "name": "stdout",
     "output_type": "stream",
     "text": [
      "Iniciando treinamento com 1000 rodadas...\n",
      "Rodadas: 0\n",
      "Rodadas: 100\n",
      "Rodadas: 200\n",
      "Rodadas: 300\n",
      "Rodadas: 400\n",
      "Rodadas: 500\n",
      "Rodadas: 600\n",
      "Rodadas: 700\n",
      "Rodadas: 800\n",
      "Rodadas: 900\n",
      "Treinamento finalizado: 1000 rodadas\n",
      "Salvando políticas para 1000 rodadas\n",
      "Salva política: X1000-v0.0\n",
      "Salva política: O1000-v0.0\n",
      "Iniciando treinamento com 10000 rodadas...\n",
      "Rodadas: 0\n",
      "Rodadas: 1000\n",
      "Rodadas: 2000\n",
      "Rodadas: 3000\n",
      "Rodadas: 4000\n",
      "Rodadas: 5000\n",
      "Rodadas: 6000\n",
      "Rodadas: 7000\n",
      "Rodadas: 8000\n",
      "Rodadas: 9000\n",
      "Treinamento finalizado: 10000 rodadas\n",
      "Salvando políticas para 10000 rodadas\n",
      "Salva política: X10000-v0.0\n",
      "Salva política: O10000-v0.0\n",
      "Iniciando treinamento com 100000 rodadas...\n",
      "Rodadas: 0\n",
      "Rodadas: 10000\n",
      "Rodadas: 20000\n",
      "Rodadas: 30000\n",
      "Rodadas: 40000\n",
      "Rodadas: 50000\n",
      "Rodadas: 60000\n",
      "Rodadas: 70000\n",
      "Rodadas: 80000\n",
      "Rodadas: 90000\n",
      "Treinamento finalizado: 100000 rodadas\n",
      "Salvando políticas para 100000 rodadas\n",
      "Salva política: X100000-v0.0\n",
      "Salva política: O100000-v0.0\n",
      "Iniciando treinamento com 1000000 rodadas...\n",
      "Rodadas: 0\n",
      "Rodadas: 100000\n",
      "Rodadas: 200000\n",
      "Rodadas: 300000\n",
      "Rodadas: 400000\n",
      "Rodadas: 500000\n",
      "Rodadas: 600000\n",
      "Rodadas: 700000\n",
      "Rodadas: 800000\n",
      "Rodadas: 900000\n",
      "Treinamento finalizado: 1000000 rodadas\n",
      "Salvando políticas para 1000000 rodadas\n",
      "Salva política: X1000000-v0.0\n",
      "Salva política: O1000000-v0.0\n"
     ]
    }
   ],
   "source": [
    "\n",
    "# Treinamento de dois jogadores por um número de rodadas\n",
    "for rodadas_treinamento in [1000, 10000, 100000, 1000000]:\n",
    "    rodadas = rodadas_treinamento\n",
    "    print(f'Iniciando treinamento com {rodadas} rodadas...')\n",
    "    verifica = rodadas / 10\n",
    "    politicaX = f\"X{rodadas}{sufixo}\"\n",
    "    politicaO = f\"O{rodadas}{sufixo}\"\n",
    "    if not Path(f\"{velha.PREFIXO_POLITICA}{politicaX}\").exists() or not Path(f\"p_{politicaO}\").exists():\n",
    "        primeiro = velha.Maquina(politicaX)\n",
    "        segundo = velha.Maquina(politicaO)\n",
    "        treino = velha.jogoDaVelha(primeiro, segundo)\n",
    "        treino.treinamento(rodadas, verifica)\n",
    "        print(f\"Salvando políticas para {rodadas} rodadas\")\n",
    "        print(f'Salva política: {primeiro.nome}')\n",
    "        primeiro.salvaPolitica()\n",
    "        print(f'Salva política: {segundo.nome}')\n",
    "        segundo.salvaPolitica()\n",
    "    else:\n",
    "        print(f'Políticas {politicaO} e {politicaX} já existem')"
   ]
  },
  {
   "cell_type": "code",
   "execution_count": 6,
   "metadata": {},
   "outputs": [
    {
     "data": {
      "text/plain": [
       "(0.17732342778682492, 0.1713247982173709, 0.1665340769630362)"
      ]
     },
     "execution_count": 6,
     "metadata": {},
     "output_type": "execute_result"
    }
   ],
   "source": [
    "primeiro = velha.Maquina(\"velhaRL\", taxa_exploracao=0.0)\n",
    "primeiro.carregaPolitica(\"p_X100000-v0.0\")\n",
    "primeiro.valores_estado['[0 0 0 0 1 0 0 0 0]'], primeiro.valores_estado['[0 0 0 0 0 0 0 0 1]'], primeiro.valores_estado['[0 0 0 0 0 0 0 1 0]']"
   ]
  },
  {
   "cell_type": "code",
   "execution_count": 7,
   "metadata": {},
   "outputs": [
    {
     "data": {
      "text/plain": [
       "(0.21206385485248436, 0.2682082364380618, 0.14386224991542304)"
      ]
     },
     "execution_count": 7,
     "metadata": {},
     "output_type": "execute_result"
    }
   ],
   "source": [
    "segundo = velha.Maquina(\"velhaRLO\", taxa_exploracao=0.0)\n",
    "primeiro.carregaPolitica(\"p_O100000-v0.0\")\n",
    "primeiro.valores_estado['[0 0 0 0 1 0 0 0 4]'], primeiro.valores_estado['[0 0 0 0 4 0 0 0 1]'], primeiro.valores_estado['[0 0 0 0 0 0 0 1 4]']"
   ]
  },
  {
   "cell_type": "code",
   "execution_count": 8,
   "metadata": {},
   "outputs": [],
   "source": [
    "politica_1 = velha.Maquina(\"X forte\", taxa_exploracao=0.0, limite_exploracao=0.03, depuracao=False)\n",
    "politica_1.carregaPolitica(\"p_X100000-v0.0\")\n",
    "politica_2 = velha.Maquina(\"O forte\", taxa_exploracao=0.0)\n",
    "politica_2.carregaPolitica(\"p_O100000-v0.0\")\n",
    "humano = velha.Humano(\"Roberto\")"
   ]
  },
  {
   "cell_type": "code",
   "execution_count": 9,
   "metadata": {},
   "outputs": [
    {
     "name": "stdout",
     "output_type": "stream",
     "text": [
      "-------------\n",
      "| X |   |   | \n",
      "-------------\n",
      "|   |   |   | \n",
      "-------------\n",
      "|   |   |   | \n",
      "-------------\n",
      "Qual a casa? Você jogou 4\n",
      "-------------\n",
      "| X |   |   | \n",
      "-------------\n",
      "|   | O |   | \n",
      "-------------\n",
      "|   |   |   | \n",
      "-------------\n",
      "-------------\n",
      "| X |   |   | \n",
      "-------------\n",
      "|   | O |   | \n",
      "-------------\n",
      "| X |   |   | \n",
      "-------------\n",
      "Qual a casa? Você jogou 3\n",
      "-------------\n",
      "| X |   |   | \n",
      "-------------\n",
      "| O | O |   | \n",
      "-------------\n",
      "| X |   |   | \n",
      "-------------\n",
      "-------------\n",
      "| X | X |   | \n",
      "-------------\n",
      "| O | O |   | \n",
      "-------------\n",
      "| X |   |   | \n",
      "-------------\n",
      "Qual a casa? Você jogou 2\n",
      "-------------\n",
      "| X | X | O | \n",
      "-------------\n",
      "| O | O |   | \n",
      "-------------\n",
      "| X |   |   | \n",
      "-------------\n",
      "-------------\n",
      "| X | X | O | \n",
      "-------------\n",
      "| O | O | X | \n",
      "-------------\n",
      "| X |   |   | \n",
      "-------------\n",
      "Qual a casa? Você jogou 7\n",
      "-------------\n",
      "| X | X | O | \n",
      "-------------\n",
      "| O | O | X | \n",
      "-------------\n",
      "| X | O |   | \n",
      "-------------\n",
      "-------------\n",
      "| X | X | O | \n",
      "-------------\n",
      "| O | O | X | \n",
      "-------------\n",
      "| X | O | X | \n",
      "-------------\n",
      "Deu velha!\n"
     ]
    }
   ],
   "source": [
    "forte_x_humano = velha.jogoDaVelha(politica_1, humano)\n",
    "resultado = forte_x_humano.partida(saida=True)"
   ]
  },
  {
   "cell_type": "code",
   "execution_count": 10,
   "metadata": {},
   "outputs": [
    {
     "name": "stdout",
     "output_type": "stream",
     "text": [
      "Qual a casa? Você jogou 5\n",
      "-------------\n",
      "|   |   |   | \n",
      "-------------\n",
      "|   |   | X | \n",
      "-------------\n",
      "|   |   |   | \n",
      "-------------\n",
      "-------------\n",
      "|   |   |   | \n",
      "-------------\n",
      "|   | O | X | \n",
      "-------------\n",
      "|   |   |   | \n",
      "-------------\n",
      "Qual a casa? Você jogou 1\n",
      "-------------\n",
      "|   | X |   | \n",
      "-------------\n",
      "|   | O | X | \n",
      "-------------\n",
      "|   |   |   | \n",
      "-------------\n",
      "-------------\n",
      "|   | X |   | \n",
      "-------------\n",
      "|   | O | X | \n",
      "-------------\n",
      "|   |   | O | \n",
      "-------------\n",
      "Qual a casa? Você jogou 0\n",
      "-------------\n",
      "| X | X |   | \n",
      "-------------\n",
      "|   | O | X | \n",
      "-------------\n",
      "|   |   | O | \n",
      "-------------\n",
      "-------------\n",
      "| X | X | O | \n",
      "-------------\n",
      "|   | O | X | \n",
      "-------------\n",
      "|   |   | O | \n",
      "-------------\n",
      "Qual a casa? Você jogou 6\n",
      "-------------\n",
      "| X | X | O | \n",
      "-------------\n",
      "|   | O | X | \n",
      "-------------\n",
      "| X |   | O | \n",
      "-------------\n",
      "-------------\n",
      "| X | X | O | \n",
      "-------------\n",
      "| O | O | X | \n",
      "-------------\n",
      "| X |   | O | \n",
      "-------------\n",
      "Qual a casa? Você jogou 7\n",
      "-------------\n",
      "| X | X | O | \n",
      "-------------\n",
      "| O | O | X | \n",
      "-------------\n",
      "| X | X | O | \n",
      "-------------\n",
      "Deu velha!\n"
     ]
    }
   ],
   "source": [
    "humano_x_forte = velha.jogoDaVelha(humano, politica_2)\n",
    "resultado = humano_x_forte.partida()"
   ]
  },
  {
   "cell_type": "code",
   "execution_count": 12,
   "metadata": {},
   "outputs": [],
   "source": [
    "Xforte = velha.Maquina(\"X forte\", taxa_exploracao=0.0, limite_exploracao=0.013)\n",
    "Xforte.carregaPolitica(\"p_X1000000-v0.0\")\n",
    "Ofraco = velha.Maquina(\"O fraco\", taxa_exploracao=0.0, limite_exploracao=0.015)\n",
    "Ofraco.carregaPolitica(\"p_O1000-v0.0\")"
   ]
  },
  {
   "cell_type": "code",
   "execution_count": 13,
   "metadata": {},
   "outputs": [],
   "source": [
    "simulacao = velha.jogoDaVelha(Xforte, Ofraco)\n",
    "total, tabuleiros = simulacao.simulacao(partidas=10000)"
   ]
  },
  {
   "cell_type": "code",
   "execution_count": 14,
   "metadata": {},
   "outputs": [
    {
     "data": {
      "text/plain": [
       "Counter({'X forte': 9906, 'Velha': 94})"
      ]
     },
     "execution_count": 14,
     "metadata": {},
     "output_type": "execute_result"
    }
   ],
   "source": [
    "total"
   ]
  },
  {
   "cell_type": "code",
   "execution_count": 15,
   "metadata": {},
   "outputs": [
    {
     "data": {
      "text/plain": [
       "Counter({'[1 4 4 1 1 0 1 0 4]': 55,\n",
       "         '[0 1 4 0 1 0 0 1 4]': 1866,\n",
       "         '[4 1 1 0 1 0 1 4 4]': 51,\n",
       "         '[1 0 0 4 1 4 0 0 1]': 212,\n",
       "         '[1 4 0 0 1 4 0 0 1]': 433,\n",
       "         '[1 0 0 0 1 0 4 4 1]': 197,\n",
       "         '[1 0 4 0 1 0 0 4 1]': 202,\n",
       "         '[0 1 0 4 1 0 0 1 4]': 232,\n",
       "         '[4 1 4 0 1 0 0 1 0]': 204,\n",
       "         '[1 0 0 0 1 4 0 4 1]': 434,\n",
       "         '[4 1 1 1 1 4 4 4 1]': 52,\n",
       "         '[0 1 0 4 1 0 4 1 0]': 442,\n",
       "         '[0 0 4 1 1 1 0 0 4]': 110,\n",
       "         '[0 1 0 0 1 4 4 1 0]': 194,\n",
       "         '[0 0 4 1 1 1 4 0 0]': 107,\n",
       "         '[4 1 1 0 1 4 1 4 0]': 53,\n",
       "         '[4 1 0 0 1 0 4 1 0]': 385,\n",
       "         '[4 1 0 4 1 0 0 1 0]': 416,\n",
       "         '[4 1 4 4 1 1 0 1 0]': 34,\n",
       "         '[4 1 0 0 1 4 0 1 0]': 187,\n",
       "         '[4 0 4 1 1 1 0 0 0]': 115,\n",
       "         '[1 0 4 0 1 4 0 0 1]': 213,\n",
       "         '[1 1 0 4 1 0 4 4 1]': 114,\n",
       "         '[1 4 4 0 1 0 0 0 1]': 224,\n",
       "         '[0 1 0 0 1 0 4 1 4]': 195,\n",
       "         '[4 0 1 4 1 1 0 4 1]': 194,\n",
       "         '[0 1 4 0 1 0 4 1 0]': 193,\n",
       "         '[0 4 4 4 1 0 1 1 1]': 35,\n",
       "         '[1 4 1 0 1 0 1 4 4]': 32,\n",
       "         '[1 0 0 4 1 0 0 4 1]': 210,\n",
       "         '[0 4 4 1 1 1 0 0 0]': 120,\n",
       "         '[0 1 4 4 1 0 0 1 0]': 241,\n",
       "         '[1 4 0 4 1 0 0 0 1]': 206,\n",
       "         '[4 1 0 0 1 0 0 1 4]': 191,\n",
       "         '[0 4 1 4 1 0 1 1 4]': 9,\n",
       "         '[1 1 1 4 1 4 0 0 4]': 23,\n",
       "         '[1 1 1 4 1 0 4 4 0]': 10,\n",
       "         '[1 0 0 0 1 4 4 0 1]': 205,\n",
       "         '[1 4 0 0 1 0 4 0 1]': 213,\n",
       "         '[0 0 4 1 1 1 0 4 0]': 87,\n",
       "         '[1 0 1 4 1 4 1 0 4]': 25,\n",
       "         '[0 1 0 4 1 4 0 1 0]': 188,\n",
       "         '[4 1 4 1 1 1 1 4 4]': 25,\n",
       "         '[1 4 0 0 1 0 0 4 1]': 449,\n",
       "         '[1 4 0 1 1 0 1 4 4]': 34,\n",
       "         '[4 1 4 1 1 1 4 4 1]': 48,\n",
       "         '[1 1 1 4 1 0 0 4 4]': 27,\n",
       "         '[1 0 1 0 1 4 1 4 4]': 23,\n",
       "         '[4 1 4 4 1 1 1 4 1]': 25,\n",
       "         '[1 4 4 4 1 0 0 1 1]': 20,\n",
       "         '[4 4 0 4 1 0 1 1 1]': 3,\n",
       "         '[1 4 1 0 1 4 1 0 4]': 88,\n",
       "         '[1 1 1 0 1 4 4 0 4]': 55,\n",
       "         '[1 1 4 4 1 1 4 4 1]': 15,\n",
       "         '[4 1 4 1 1 4 1 4 1]': 17,\n",
       "         '[1 4 1 4 1 0 1 0 4]': 47,\n",
       "         '[4 1 1 4 1 0 1 4 0]': 54,\n",
       "         '[0 1 4 4 1 1 0 1 4]': 26,\n",
       "         '[1 4 0 1 1 4 1 0 4]': 24,\n",
       "         '[4 4 1 4 1 0 1 1 0]': 11,\n",
       "         '[0 1 4 4 1 1 4 1 0]': 21,\n",
       "         '[0 4 0 4 1 4 1 1 1]': 11,\n",
       "         '[1 1 0 4 1 4 0 4 1]': 8,\n",
       "         '[1 1 1 4 1 4 0 4 0]': 10,\n",
       "         '[1 1 4 4 1 0 0 4 1]': 26,\n",
       "         '[1 1 1 0 1 4 0 4 4]': 24})"
      ]
     },
     "execution_count": 15,
     "metadata": {},
     "output_type": "execute_result"
    }
   ],
   "source": [
    "tabuleiros"
   ]
  },
  {
   "cell_type": "code",
   "execution_count": null,
   "metadata": {},
   "outputs": [],
   "source": []
  }
 ],
 "metadata": {
  "kernelspec": {
   "display_name": "Python 3.10.7 64-bit",
   "language": "python",
   "name": "python3"
  },
  "language_info": {
   "codemirror_mode": {
    "name": "ipython",
    "version": 3
   },
   "file_extension": ".py",
   "mimetype": "text/x-python",
   "name": "python",
   "nbconvert_exporter": "python",
   "pygments_lexer": "ipython3",
   "version": "3.10.7"
  },
  "orig_nbformat": 4,
  "vscode": {
   "interpreter": {
    "hash": "5e3ec1e88214cc13c111547c3da2441f08c1a8b9cb172f0d393a712558ca4844"
   }
  }
 },
 "nbformat": 4,
 "nbformat_minor": 2
}

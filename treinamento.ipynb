{
 "cells": [
  {
   "cell_type": "markdown",
   "metadata": {},
   "source": [
    "# Notebook de treinamento\n",
    "Bibliotecas"
   ]
  },
  {
   "cell_type": "code",
   "execution_count": 1,
   "metadata": {},
   "outputs": [],
   "source": [
    "import ipywidgets as widgets\n",
    "import numpy as np\n",
    "import pandas as pd\n",
    "\n",
    "import velha as jv\n",
    "\n",
    "from collections import OrderedDict"
   ]
  },
  {
   "cell_type": "code",
   "execution_count": 2,
   "metadata": {},
   "outputs": [],
   "source": [
    "versao = \"-v0.0\"\n",
    "sobrescreve = False"
   ]
  },
  {
   "cell_type": "code",
   "execution_count": 3,
   "metadata": {},
   "outputs": [],
   "source": [
    "niveis_treinamento = OrderedDict({})\n",
    "labels = ['muito fraco', 'fraco', 'medio', 'forte', 'muito forte']\n",
    "menor_potencia = 2\n",
    "maior_potencia = menor_potencia + len(labels)\n",
    "rodadas = 10 ** np.arange(menor_potencia, maior_potencia)\n",
    "for indice, label in enumerate(labels):\n",
    "    niveis_treinamento[label] = {'rodadas': rodadas[indice]}\n",
    "    niveis_treinamento[label]['progresso'] = widgets.FloatProgress(\n",
    "        value=0.0,\n",
    "        min=0.0,\n",
    "        max=1.0,\n",
    "        description=f'{label}:',\n",
    "        bar_style='success',\n",
    "        style={'bar_color': 'black'},\n",
    "        orientation='horizontal'\n",
    "    )"
   ]
  },
  {
   "cell_type": "code",
   "execution_count": 4,
   "metadata": {},
   "outputs": [
    {
     "name": "stdout",
     "output_type": "stream",
     "text": [
      "Iniciando treinamento com 100 rodadas... (muito fraco)\n"
     ]
    },
    {
     "data": {
      "application/vnd.jupyter.widget-view+json": {
       "model_id": "ed84512a84624b5eb4c27a68a9fe7ce7",
       "version_major": 2,
       "version_minor": 0
      },
      "text/plain": [
       "FloatProgress(value=0.0, bar_style='success', description='muito fraco:', max=1.0, style=ProgressStyle(bar_col…"
      ]
     },
     "metadata": {},
     "output_type": "display_data"
    },
    {
     "name": "stdout",
     "output_type": "stream",
     "text": [
      "Treinamento finalizado: 100 rodadas\n",
      "Salvando políticas para 100 rodadas\n",
      "Salvando política: X100-v0.0\n",
      "Salvando política: O100-v0.0\n",
      "Iniciando treinamento com 1000 rodadas... (fraco)\n"
     ]
    },
    {
     "data": {
      "application/vnd.jupyter.widget-view+json": {
       "model_id": "e820308c21404b86a64c7c1006f942f4",
       "version_major": 2,
       "version_minor": 0
      },
      "text/plain": [
       "FloatProgress(value=0.0, bar_style='success', description='fraco:', max=1.0, style=ProgressStyle(bar_color='bl…"
      ]
     },
     "metadata": {},
     "output_type": "display_data"
    },
    {
     "name": "stdout",
     "output_type": "stream",
     "text": [
      "Treinamento finalizado: 1000 rodadas\n",
      "Salvando políticas para 1000 rodadas\n",
      "Salvando política: X1000-v0.0\n",
      "Salvando política: O1000-v0.0\n",
      "Iniciando treinamento com 10000 rodadas... (medio)\n"
     ]
    },
    {
     "data": {
      "application/vnd.jupyter.widget-view+json": {
       "model_id": "241fd43f7b80402c84e923d632182465",
       "version_major": 2,
       "version_minor": 0
      },
      "text/plain": [
       "FloatProgress(value=0.0, bar_style='success', description='medio:', max=1.0, style=ProgressStyle(bar_color='bl…"
      ]
     },
     "metadata": {},
     "output_type": "display_data"
    },
    {
     "name": "stdout",
     "output_type": "stream",
     "text": [
      "Treinamento finalizado: 10000 rodadas\n",
      "Salvando políticas para 10000 rodadas\n",
      "Salvando política: X10000-v0.0\n",
      "Salvando política: O10000-v0.0\n",
      "Iniciando treinamento com 100000 rodadas... (forte)\n"
     ]
    },
    {
     "data": {
      "application/vnd.jupyter.widget-view+json": {
       "model_id": "a003511310cc41b18e6d49ce022286d2",
       "version_major": 2,
       "version_minor": 0
      },
      "text/plain": [
       "FloatProgress(value=0.0, bar_style='success', description='forte:', max=1.0, style=ProgressStyle(bar_color='bl…"
      ]
     },
     "metadata": {},
     "output_type": "display_data"
    },
    {
     "name": "stdout",
     "output_type": "stream",
     "text": [
      "Treinamento finalizado: 100000 rodadas\n",
      "Salvando políticas para 100000 rodadas\n",
      "Salvando política: X100000-v0.0\n",
      "Salvando política: O100000-v0.0\n",
      "Iniciando treinamento com 1000000 rodadas... (muito forte)\n"
     ]
    },
    {
     "data": {
      "application/vnd.jupyter.widget-view+json": {
       "model_id": "078a5cd9c63a42eeaddfd0115780309d",
       "version_major": 2,
       "version_minor": 0
      },
      "text/plain": [
       "FloatProgress(value=0.0, bar_style='success', description='muito forte:', max=1.0, style=ProgressStyle(bar_col…"
      ]
     },
     "metadata": {},
     "output_type": "display_data"
    },
    {
     "name": "stdout",
     "output_type": "stream",
     "text": [
      "Treinamento finalizado: 1000000 rodadas\n",
      "Salvando políticas para 1000000 rodadas\n",
      "Salvando política: X1000000-v0.0\n",
      "Salvando política: O1000000-v0.0\n"
     ]
    }
   ],
   "source": [
    "# Treinamento de dois jogadores por um número de rodadas\n",
    "\n",
    "for nivel in niveis_treinamento:\n",
    "    rodadas_treinamento = niveis_treinamento[nivel]['rodadas']\n",
    "    print(f'Iniciando treinamento com {rodadas_treinamento} rodadas... ({nivel})')\n",
    "    verifica = rodadas_treinamento / 10\n",
    "    politica_X = f\"X{rodadas_treinamento}{versao}\"\n",
    "    politica_O = f\"O{rodadas_treinamento}{versao}\"\n",
    "\n",
    "    if sobrescreve or (not jv.existe_politica(politica_X) or not jv.existe_politica(politica_O)):\n",
    "        primeiro = jv.Maquina(politica_X)\n",
    "        segundo = jv.Maquina(politica_O)\n",
    "        treino = jv.jogoDaVelha(primeiro, segundo)\n",
    "        treino.treinamento(rodadas_treinamento, verifica=verifica, progresso=niveis_treinamento[nivel]['progresso'])\n",
    "        print(f\"Salvando políticas para {rodadas_treinamento} rodadas\")\n",
    "        print(f'Salvando política: {primeiro.nome}')\n",
    "        primeiro.salva_politica()\n",
    "        print(f'Salvando política: {segundo.nome}')\n",
    "        segundo.salva_politica()\n",
    "    else:\n",
    "        print(f'Políticas {politica_O} e {politica_X} já existem')"
   ]
  },
  {
   "cell_type": "markdown",
   "metadata": {},
   "source": [
    "# Combinando políticas"
   ]
  },
  {
   "cell_type": "code",
   "execution_count": 5,
   "metadata": {},
   "outputs": [
    {
     "name": "stdout",
     "output_type": "stream",
     "text": [
      "Salvando política XO100-v0.0!!!\n",
      "Salvando política XO1000-v0.0!!!\n",
      "Salvando política XO10000-v0.0!!!\n",
      "Salvando política XO100000-v0.0!!!\n",
      "Salvando política XO1000000-v0.0!!!\n"
     ]
    }
   ],
   "source": [
    "for nivel in niveis_treinamento:\n",
    "    politica_combinada = f\"XO{niveis_treinamento[nivel]['rodadas']}{versao}\"\n",
    "    if sobrescreve or not jv.existe_politica(politica_combinada):\n",
    "        primeiro = jv.Maquina(\"velhaRLX\", taxa_exploracao=0.0)\n",
    "        primeiro.carrega_politica(f\"X{niveis_treinamento[nivel]['rodadas']}{versao}\")\n",
    "        segundo = jv.Maquina(\"velhaRLO\", taxa_exploracao=0.0)\n",
    "        segundo.carrega_politica(f\"O{niveis_treinamento[nivel]['rodadas']}{versao}\")\n",
    "\n",
    "        primeiro.combina_e_salva_politica(segundo, politica_combinada)\n",
    "        print(f\"Salvando política {politica_combinada}!!!\")\n",
    "    else:\n",
    "        print(f\"Arquivo de política {politica_combinada} já existe!\")"
   ]
  },
  {
   "cell_type": "markdown",
   "metadata": {},
   "source": [
    "# Jogando todas políticas contra todas"
   ]
  },
  {
   "cell_type": "code",
   "execution_count": 6,
   "metadata": {},
   "outputs": [
    {
     "data": {
      "application/vnd.jupyter.widget-view+json": {
       "model_id": "09b772d7e69f4038876005a8563e311f",
       "version_major": 2,
       "version_minor": 0
      },
      "text/plain": [
       "IntSlider(value=10000, description='Rodadas: ', max=50000, min=1000, step=100)"
      ]
     },
     "execution_count": 6,
     "metadata": {},
     "output_type": "execute_result"
    }
   ],
   "source": [
    "num_partidas = widgets.IntSlider(\n",
    "    value=10000,\n",
    "    min=1000,\n",
    "    max=50000,\n",
    "    step = 100,\n",
    "    description='Rodadas: '\n",
    ")\n",
    "num_partidas"
   ]
  },
  {
   "cell_type": "code",
   "execution_count": 7,
   "metadata": {},
   "outputs": [
    {
     "name": "stdout",
     "output_type": "stream",
     "text": [
      "X-100, O-100\n",
      "Counter({'O-100': 4017, 'X-100': 3738, 'Velha': 2245})\n",
      "\n",
      "X-100, O-1000\n",
      "Counter({'Velha': 5960, 'X-100': 2374, 'O-1000': 1666})\n",
      "\n",
      "X-100, O-10000\n",
      "Counter({'Velha': 5340, 'O-10000': 4660})\n",
      "\n",
      "X-100, O-100000\n",
      "Counter({'O-100000': 10000})\n",
      "\n",
      "X-100, O-1000000\n",
      "Counter({'O-1000000': 10000})\n",
      "\n",
      "X-1000, O-100\n",
      "Counter({'X-1000': 5869, 'O-100': 3850, 'Velha': 281})\n",
      "\n",
      "X-1000, O-1000\n",
      "Counter({'O-1000': 6702, 'Velha': 2470, 'X-1000': 828})\n",
      "\n",
      "X-1000, O-10000\n",
      "Counter({'O-10000': 8316, 'Velha': 1684})\n",
      "\n",
      "X-1000, O-100000\n",
      "Counter({'O-100000': 7512, 'Velha': 2488})\n",
      "\n",
      "X-1000, O-1000000\n",
      "Counter({'O-1000000': 7490, 'Velha': 2510})\n",
      "\n",
      "X-10000, O-100\n",
      "Counter({'X-10000': 7968, 'O-100': 2032})\n",
      "\n",
      "X-10000, O-1000\n",
      "Counter({'X-10000': 10000})\n",
      "\n",
      "X-10000, O-10000\n",
      "Counter({'Velha': 10000})\n",
      "\n",
      "X-10000, O-100000\n",
      "Counter({'O-100000': 10000})\n",
      "\n",
      "X-10000, O-1000000\n",
      "Counter({'O-1000000': 10000})\n",
      "\n",
      "X-100000, O-100\n",
      "Counter({'X-100000': 10000})\n",
      "\n",
      "X-100000, O-1000\n",
      "Counter({'X-100000': 10000})\n",
      "\n",
      "X-100000, O-10000\n",
      "Counter({'Velha': 10000})\n",
      "\n",
      "X-100000, O-100000\n",
      "Counter({'Velha': 10000})\n",
      "\n",
      "X-100000, O-1000000\n",
      "Counter({'Velha': 10000})\n",
      "\n",
      "X-1000000, O-100\n",
      "Counter({'X-1000000': 8772, 'Velha': 1228})\n",
      "\n",
      "X-1000000, O-1000\n",
      "Counter({'Velha': 10000})\n",
      "\n",
      "X-1000000, O-10000\n",
      "Counter({'Velha': 10000})\n",
      "\n",
      "X-1000000, O-100000\n",
      "Counter({'Velha': 10000})\n",
      "\n",
      "X-1000000, O-1000000\n",
      "Counter({'Velha': 10000})\n",
      "\n"
     ]
    }
   ],
   "source": [
    "resultados = {}\n",
    "for nivel_X in niveis_treinamento:\n",
    "    resultados['X ' + nivel_X] = {}\n",
    "    for nivel_O in niveis_treinamento:\n",
    "        rodadas_X = niveis_treinamento[nivel_X]['rodadas']\n",
    "        rodadas_O = niveis_treinamento[nivel_O]['rodadas']\n",
    "        X = jv.Maquina(f\"X-{rodadas_X}\", taxa_exploracao=0.0, limite_exploracao=0.0)\n",
    "        X.carrega_politica(f\"X{rodadas_X}{versao}\")\n",
    "        O = jv.Maquina(f\"O-{rodadas_O}\", taxa_exploracao=0.0, limite_exploracao=0.0)\n",
    "        O.carrega_politica(f\"O{rodadas_O}{versao}\")\n",
    "\n",
    "        simulacao = jv.jogoDaVelha(X, O)\n",
    "        total, tabuleiros = simulacao.simulacao(partidas=num_partidas.value)\n",
    "        resultados['X ' + nivel_X]['O ' + nivel_O] = total\n",
    "        print(f\"{X.nome}, {O.nome}\")\n",
    "        print(total)\n",
    "        \n",
    "        print()"
   ]
  },
  {
   "cell_type": "code",
   "execution_count": 8,
   "metadata": {},
   "outputs": [
    {
     "data": {
      "text/html": [
       "<div>\n",
       "<style scoped>\n",
       "    .dataframe tbody tr th:only-of-type {\n",
       "        vertical-align: middle;\n",
       "    }\n",
       "\n",
       "    .dataframe tbody tr th {\n",
       "        vertical-align: top;\n",
       "    }\n",
       "\n",
       "    .dataframe thead th {\n",
       "        text-align: right;\n",
       "    }\n",
       "</style>\n",
       "<table border=\"1\" class=\"dataframe\">\n",
       "  <thead>\n",
       "    <tr style=\"text-align: right;\">\n",
       "      <th></th>\n",
       "      <th>X muito fraco</th>\n",
       "      <th>X fraco</th>\n",
       "      <th>X medio</th>\n",
       "      <th>X forte</th>\n",
       "      <th>X muito forte</th>\n",
       "    </tr>\n",
       "  </thead>\n",
       "  <tbody>\n",
       "    <tr>\n",
       "      <th>O muito fraco</th>\n",
       "      <td>{'O-100': 4017, 'X-100': 3738, 'Velha': 2245}</td>\n",
       "      <td>{'O-100': 3850, 'X-1000': 5869, 'Velha': 281}</td>\n",
       "      <td>{'O-100': 2032, 'X-10000': 7968}</td>\n",
       "      <td>{'X-100000': 10000}</td>\n",
       "      <td>{'X-1000000': 8772, 'Velha': 1228}</td>\n",
       "    </tr>\n",
       "    <tr>\n",
       "      <th>O fraco</th>\n",
       "      <td>{'O-1000': 1666, 'Velha': 5960, 'X-100': 2374}</td>\n",
       "      <td>{'O-1000': 6702, 'Velha': 2470, 'X-1000': 828}</td>\n",
       "      <td>{'X-10000': 10000}</td>\n",
       "      <td>{'X-100000': 10000}</td>\n",
       "      <td>{'Velha': 10000}</td>\n",
       "    </tr>\n",
       "    <tr>\n",
       "      <th>O medio</th>\n",
       "      <td>{'O-10000': 4660, 'Velha': 5340}</td>\n",
       "      <td>{'O-10000': 8316, 'Velha': 1684}</td>\n",
       "      <td>{'Velha': 10000}</td>\n",
       "      <td>{'Velha': 10000}</td>\n",
       "      <td>{'Velha': 10000}</td>\n",
       "    </tr>\n",
       "    <tr>\n",
       "      <th>O forte</th>\n",
       "      <td>{'O-100000': 10000}</td>\n",
       "      <td>{'O-100000': 7512, 'Velha': 2488}</td>\n",
       "      <td>{'O-100000': 10000}</td>\n",
       "      <td>{'Velha': 10000}</td>\n",
       "      <td>{'Velha': 10000}</td>\n",
       "    </tr>\n",
       "    <tr>\n",
       "      <th>O muito forte</th>\n",
       "      <td>{'O-1000000': 10000}</td>\n",
       "      <td>{'O-1000000': 7490, 'Velha': 2510}</td>\n",
       "      <td>{'O-1000000': 10000}</td>\n",
       "      <td>{'Velha': 10000}</td>\n",
       "      <td>{'Velha': 10000}</td>\n",
       "    </tr>\n",
       "  </tbody>\n",
       "</table>\n",
       "</div>"
      ],
      "text/plain": [
       "                                                X muito fraco  \\\n",
       "O muito fraco   {'O-100': 4017, 'X-100': 3738, 'Velha': 2245}   \n",
       "O fraco        {'O-1000': 1666, 'Velha': 5960, 'X-100': 2374}   \n",
       "O medio                      {'O-10000': 4660, 'Velha': 5340}   \n",
       "O forte                                   {'O-100000': 10000}   \n",
       "O muito forte                            {'O-1000000': 10000}   \n",
       "\n",
       "                                                      X fraco  \\\n",
       "O muito fraco   {'O-100': 3850, 'X-1000': 5869, 'Velha': 281}   \n",
       "O fraco        {'O-1000': 6702, 'Velha': 2470, 'X-1000': 828}   \n",
       "O medio                      {'O-10000': 8316, 'Velha': 1684}   \n",
       "O forte                     {'O-100000': 7512, 'Velha': 2488}   \n",
       "O muito forte              {'O-1000000': 7490, 'Velha': 2510}   \n",
       "\n",
       "                                        X medio              X forte  \\\n",
       "O muito fraco  {'O-100': 2032, 'X-10000': 7968}  {'X-100000': 10000}   \n",
       "O fraco                      {'X-10000': 10000}  {'X-100000': 10000}   \n",
       "O medio                        {'Velha': 10000}     {'Velha': 10000}   \n",
       "O forte                     {'O-100000': 10000}     {'Velha': 10000}   \n",
       "O muito forte              {'O-1000000': 10000}     {'Velha': 10000}   \n",
       "\n",
       "                                    X muito forte  \n",
       "O muito fraco  {'X-1000000': 8772, 'Velha': 1228}  \n",
       "O fraco                          {'Velha': 10000}  \n",
       "O medio                          {'Velha': 10000}  \n",
       "O forte                          {'Velha': 10000}  \n",
       "O muito forte                    {'Velha': 10000}  "
      ]
     },
     "execution_count": 8,
     "metadata": {},
     "output_type": "execute_result"
    }
   ],
   "source": [
    "pd.DataFrame(resultados)"
   ]
  },
  {
   "cell_type": "code",
   "execution_count": null,
   "metadata": {},
   "outputs": [],
   "source": []
  }
 ],
 "metadata": {
  "kernelspec": {
   "display_name": "Python 3.10.7 64-bit",
   "language": "python",
   "name": "python3"
  },
  "language_info": {
   "codemirror_mode": {
    "name": "ipython",
    "version": 3
   },
   "file_extension": ".py",
   "mimetype": "text/x-python",
   "name": "python",
   "nbconvert_exporter": "python",
   "pygments_lexer": "ipython3",
   "version": "3.10.7"
  },
  "orig_nbformat": 4,
  "vscode": {
   "interpreter": {
    "hash": "5e3ec1e88214cc13c111547c3da2441f08c1a8b9cb172f0d393a712558ca4844"
   }
  }
 },
 "nbformat": 4,
 "nbformat_minor": 2
}

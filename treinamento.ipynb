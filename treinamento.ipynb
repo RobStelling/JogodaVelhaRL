{
 "cells": [
  {
   "cell_type": "markdown",
   "metadata": {},
   "source": [
    "# Notebook de treinamento\n",
    "Bibliotecas"
   ]
  },
  {
   "cell_type": "code",
   "execution_count": 1,
   "metadata": {},
   "outputs": [],
   "source": [
    "import ipywidgets as widgets\n",
    "import numpy as np\n",
    "\n",
    "import velha as jv\n",
    "\n",
    "from collections import OrderedDict\n",
    "from IPython.display import display\n",
    "from pathlib import Path\n",
    "from time import sleep"
   ]
  },
  {
   "cell_type": "code",
   "execution_count": 2,
   "metadata": {},
   "outputs": [],
   "source": [
    "versao = \"-v0.0\"\n",
    "sobrescreve = True"
   ]
  },
  {
   "cell_type": "code",
   "execution_count": 3,
   "metadata": {},
   "outputs": [],
   "source": [
    "niveis_treinamento = OrderedDict({})\n",
    "labels = ['muito fraco', 'fraco', 'medio', 'forte', 'muito forte']\n",
    "menor_potencia = 2\n",
    "maior_potencia = menor_potencia + len(labels)\n",
    "rodadas = 10 ** np.arange(menor_potencia, maior_potencia)\n",
    "for indice, label in enumerate(labels):\n",
    "    niveis_treinamento[label] = {'rodadas': rodadas[indice]}\n",
    "    niveis_treinamento[label]['progresso'] = widgets.FloatProgress(\n",
    "        value=0.0,\n",
    "        min=0.0,\n",
    "        max=1.0,\n",
    "        description=f'{label}:',\n",
    "        bar_style='success',\n",
    "        style={'bar_color': 'black'},\n",
    "        orientation='horizontal'\n",
    "    )"
   ]
  },
  {
   "cell_type": "code",
   "execution_count": 4,
   "metadata": {},
   "outputs": [
    {
     "name": "stdout",
     "output_type": "stream",
     "text": [
      "Iniciando treinamento com 100 rodadas... (muito fraco)\n"
     ]
    },
    {
     "data": {
      "application/vnd.jupyter.widget-view+json": {
       "model_id": "33e397277c1543b1a01275e5599a4506",
       "version_major": 2,
       "version_minor": 0
      },
      "text/plain": [
       "FloatProgress(value=0.0, bar_style='success', description='muito fraco:', max=1.0, style=ProgressStyle(bar_col…"
      ]
     },
     "metadata": {},
     "output_type": "display_data"
    },
    {
     "name": "stdout",
     "output_type": "stream",
     "text": [
      "Treinamento finalizado: 100 rodadas\n",
      "Salvando políticas para 100 rodadas\n",
      "Salvando política: X100-v0.0\n",
      "Salvando política: O100-v0.0\n",
      "Iniciando treinamento com 1000 rodadas... (fraco)\n"
     ]
    },
    {
     "data": {
      "application/vnd.jupyter.widget-view+json": {
       "model_id": "258738f6f917446e9d1a5a7410d3c37e",
       "version_major": 2,
       "version_minor": 0
      },
      "text/plain": [
       "FloatProgress(value=0.0, bar_style='success', description='fraco:', max=1.0, style=ProgressStyle(bar_color='bl…"
      ]
     },
     "metadata": {},
     "output_type": "display_data"
    },
    {
     "name": "stdout",
     "output_type": "stream",
     "text": [
      "Treinamento finalizado: 1000 rodadas\n",
      "Salvando políticas para 1000 rodadas\n",
      "Salvando política: X1000-v0.0\n",
      "Salvando política: O1000-v0.0\n",
      "Iniciando treinamento com 10000 rodadas... (medio)\n"
     ]
    },
    {
     "data": {
      "application/vnd.jupyter.widget-view+json": {
       "model_id": "2ef6bbdb158d491ea65b45c0dcb706e6",
       "version_major": 2,
       "version_minor": 0
      },
      "text/plain": [
       "FloatProgress(value=0.0, bar_style='success', description='medio:', max=1.0, style=ProgressStyle(bar_color='bl…"
      ]
     },
     "metadata": {},
     "output_type": "display_data"
    },
    {
     "name": "stdout",
     "output_type": "stream",
     "text": [
      "Treinamento finalizado: 10000 rodadas\n",
      "Salvando políticas para 10000 rodadas\n",
      "Salvando política: X10000-v0.0\n",
      "Salvando política: O10000-v0.0\n",
      "Iniciando treinamento com 100000 rodadas... (forte)\n"
     ]
    },
    {
     "data": {
      "application/vnd.jupyter.widget-view+json": {
       "model_id": "04e00863e537471daaa42673573923e5",
       "version_major": 2,
       "version_minor": 0
      },
      "text/plain": [
       "FloatProgress(value=0.0, bar_style='success', description='forte:', max=1.0, style=ProgressStyle(bar_color='bl…"
      ]
     },
     "metadata": {},
     "output_type": "display_data"
    },
    {
     "name": "stdout",
     "output_type": "stream",
     "text": [
      "Treinamento finalizado: 100000 rodadas\n",
      "Salvando políticas para 100000 rodadas\n",
      "Salvando política: X100000-v0.0\n",
      "Salvando política: O100000-v0.0\n",
      "Iniciando treinamento com 1000000 rodadas... (muito forte)\n"
     ]
    },
    {
     "data": {
      "application/vnd.jupyter.widget-view+json": {
       "model_id": "f183edb665184a7ebc2030ec4af6c249",
       "version_major": 2,
       "version_minor": 0
      },
      "text/plain": [
       "FloatProgress(value=0.0, bar_style='success', description='muito forte:', max=1.0, style=ProgressStyle(bar_col…"
      ]
     },
     "metadata": {},
     "output_type": "display_data"
    },
    {
     "name": "stdout",
     "output_type": "stream",
     "text": [
      "Treinamento finalizado: 1000000 rodadas\n",
      "Salvando políticas para 1000000 rodadas\n",
      "Salvando política: X1000000-v0.0\n",
      "Salvando política: O1000000-v0.0\n"
     ]
    }
   ],
   "source": [
    "# Treinamento de dois jogadores por um número de rodadas\n",
    "\n",
    "for nivel in niveis_treinamento:\n",
    "    rodadas_treinamento = niveis_treinamento[nivel]['rodadas']\n",
    "    print(f'Iniciando treinamento com {rodadas_treinamento} rodadas... ({nivel})')\n",
    "    verifica = rodadas_treinamento / 10\n",
    "    politica_X = f\"X{rodadas_treinamento}{versao}\"\n",
    "    politica_O = f\"O{rodadas_treinamento}{versao}\"\n",
    "\n",
    "    if sobrescreve or (not jv.existe_politica(politica_X) or not jv.existe_politica(politica_O)):\n",
    "        primeiro = jv.Maquina(politica_X)\n",
    "        segundo = jv.Maquina(politica_O)\n",
    "        treino = jv.jogoDaVelha(primeiro, segundo)\n",
    "        treino.treinamento(rodadas_treinamento, verifica=verifica, progresso=niveis_treinamento[nivel]['progresso'])\n",
    "        print(f\"Salvando políticas para {rodadas_treinamento} rodadas\")\n",
    "        print(f'Salvando política: {primeiro.nome}')\n",
    "        primeiro.salva_politica()\n",
    "        print(f'Salvando política: {segundo.nome}')\n",
    "        segundo.salva_politica()\n",
    "    else:\n",
    "        print(f'Políticas {politica_O} e {politica_X} já existem')"
   ]
  },
  {
   "cell_type": "markdown",
   "metadata": {},
   "source": [
    "# Combinando políticas"
   ]
  },
  {
   "cell_type": "code",
   "execution_count": 16,
   "metadata": {},
   "outputs": [
    {
     "name": "stdout",
     "output_type": "stream",
     "text": [
      "Salvando política XO1000-v0.0!!!\n",
      "Salvando política XO10000-v0.0!!!\n",
      "Salvando política XO100000-v0.0!!!\n",
      "Salvando política XO1000000-v0.0!!!\n"
     ]
    }
   ],
   "source": [
    "for nivel in niveis_treinamento:\n",
    "    politica_combinada = f\"XO{niveis_treinamento[nivel]['rodadas']}{versao}\"\n",
    "    if sobrescreve or not jv.existe_politica(politica_combinada):\n",
    "        primeiro = jv.Maquina(\"velhaRLX\", taxa_exploracao=0.0)\n",
    "        primeiro.carrega_politica(f\"X{niveis_treinamento[nivel]['rodadas']}{versao}\")\n",
    "        segundo = jv.Maquina(\"velhaRLO\", taxa_exploracao=0.0)\n",
    "        segundo.carrega_politica(f\"O{niveis_treinamento[nivel]['rodadas']}{versao}\")\n",
    "\n",
    "        primeiro.combina_e_salva_politica(segundo, politica_combinada)\n",
    "        print(f\"Salvando política {politica_combinada}!!!\")\n",
    "    else:\n",
    "        print(f\"Arquivo de política {politica_combinada} já existe!\")"
   ]
  }
 ],
 "metadata": {
  "kernelspec": {
   "display_name": "Python 3.10.7 64-bit",
   "language": "python",
   "name": "python3"
  },
  "language_info": {
   "codemirror_mode": {
    "name": "ipython",
    "version": 3
   },
   "file_extension": ".py",
   "mimetype": "text/x-python",
   "name": "python",
   "nbconvert_exporter": "python",
   "pygments_lexer": "ipython3",
   "version": "3.10.7"
  },
  "orig_nbformat": 4,
  "vscode": {
   "interpreter": {
    "hash": "5e3ec1e88214cc13c111547c3da2441f08c1a8b9cb172f0d393a712558ca4844"
   }
  }
 },
 "nbformat": 4,
 "nbformat_minor": 2
}
